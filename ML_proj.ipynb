{
 "cells": [
  {
   "cell_type": "markdown",
   "metadata": {
    "id": "08nL2KTD0-kT"
   },
   "source": [
    "<div class=\"header\" , dir=rtl>\n",
    " <h1>למידת מכונה - פרוייקט קורס</h1>\n",
    "</div>\n",
    "\n"
   ]
  },
  {
   "cell_type": "markdown",
   "metadata": {
    "id": "T4zSZIImupos"
   },
   "source": [
    "<div dir=rtl>\n",
    "\n",
    "\n",
    "מגישים:\n",
    "אוריה שמלה - 312573744 , אור טרבלסי - 206066326\n",
    "\n",
    "בפרוייקט זה לקחנו מאגר נתונים של ביקורות והשתמשנו בכל מיני שיטות בכדי לענות על שאלות שעניינו אותנו, בנוסף תוך כדי תנועה למדנו דברים חדשים והסקנו מסקנות.\n",
    "תיאור המאגר:\n",
    "מאגר נתונים זה מורכב מסקירות של מוצרי מזון מאמזון. הביקורות כוללות מידע על מוצר ומשתמש, \n",
    "דירוגים וסקירת טקסט רגיל. מאגר נתונים זה כולל גם ביקורות מכל שאר הקטגוריות של אמזון. <br> <br>\n",
    "המאגר כולל:<br> \n",
    "ביקורות 568,454  <br>\n",
    "משתמשים 256,059 <br>\n",
    "מוצרים 74,258 <br>\n",
    "260 משתמשים בעלי יותר מ50 ביק ורות <br> <br>\n",
    "עמודות שהמאגר מכיל: <br> \n",
    "ID  <br>\n",
    "ProductID  <br>\n",
    "UserID  <br>\n",
    "Score  <br>\n",
    "HelpfulnessReview  <br>\n",
    "Time  <br>\n",
    "Text  <br>\n",
    "Summary <br>\n",
    " \n",
    "שאלות ששאלנו:\n",
    "1. האם משתמשים נוטים להיות עקביים בביקורות שלהם? \n",
    "2.  .האם מילה מסוימת מתקשרת לביקורת חיובית או שלילית?\n",
    "3.  .האם הביקורת היא חיובית או שלילית לפי טקסט הביקורת?\n",
    "4.  .האם הביקורת יוצרת עניין אצל אנשים אחרים או לא נבדוק זאת באמצעות העמודה שבה אנשים \n",
    "הגיבו על ביקורת מסויימת\n",
    "</div>"
   ]
  },
  {
   "cell_type": "markdown",
   "metadata": {
    "id": "AFk0FRBnlpUF"
   },
   "source": [
    "# :ייבוא סיפריות ונתונים"
   ]
  },
  {
   "cell_type": "markdown",
   "metadata": {
    "id": "lRRh1tlg4kqf"
   },
   "source": [
    "## ייבוא סיפריות"
   ]
  },
  {
   "cell_type": "code",
   "execution_count": 31,
   "metadata": {
    "colab": {
     "base_uri": "https://localhost:8080/"
    },
    "id": "jMWQSO6gld--",
    "outputId": "fdc49175-75c8-4298-e73b-0ad583a2530e"
   },
   "outputs": [
    {
     "name": "stderr",
     "output_type": "stream",
     "text": [
      "[nltk_data] Downloading package punkt to /root/nltk_data...\n",
      "[nltk_data]   Package punkt is already up-to-date!\n",
      "[nltk_data] Downloading package stopwords to /root/nltk_data...\n",
      "[nltk_data]   Package stopwords is already up-to-date!\n"
     ]
    },
    {
     "data": {
      "text/plain": [
       "True"
      ]
     },
     "execution_count": 31,
     "metadata": {},
     "output_type": "execute_result"
    }
   ],
   "source": [
    "import numpy as np\n",
    "import pandas as pd \n",
    "import matplotlib.pyplot as plt\n",
    "import seaborn as sns\n",
    "\n",
    "# ignor wornings\n",
    "import os\n",
    "os.environ['TF_CPP_MIN_LOG_LEVEL'] = '2' \n",
    "import warnings\n",
    "warnings.filterwarnings(\"ignore\")  \n",
    "import pickle \n",
    "\n",
    "# tensorflow lib\n",
    "import tensorflow as tf\n",
    "from tensorflow.keras.preprocessing.text import Tokenizer\n",
    "from tensorflow.keras.preprocessing.sequence import pad_sequences\n",
    "from tensorflow.keras.layers import Embedding, GRU, Dense, Flatten, Bidirectional \n",
    "from sklearn.feature_extraction.text import CountVectorizer\n",
    "\n",
    "from sklearn.metrics import confusion_matrix\n",
    "from sklearn.model_selection import train_test_split\n",
    "from sklearn.metrics import f1_score\n",
    "from sklearn.linear_model import LogisticRegression\n",
    "from sklearn.ensemble import AdaBoostClassifier\n",
    "from xgboost import XGBClassifier\n",
    "\n",
    "\n",
    "# nlp tools\n",
    "import string\n",
    "import re\n",
    "import nltk \n",
    "\n",
    "from nltk.stem import PorterStemmer\n",
    "from nltk.tokenize import word_tokenize\n",
    "from nltk.corpus import stopwords\n",
    "\n",
    "nltk.download('punkt')\n",
    "nltk.download('stopwords')"
   ]
  },
  {
   "cell_type": "markdown",
   "metadata": {
    "id": "jNPiGPTvlsTM"
   },
   "source": [
    "## טעינת דאטה מגוגל דרייב:\n"
   ]
  },
  {
   "cell_type": "code",
   "execution_count": 2,
   "metadata": {
    "colab": {
     "base_uri": "https://localhost:8080/"
    },
    "id": "2IHzijrnljkd",
    "outputId": "1445c998-9a6a-4d63-bcf2-8d20754b4ee0"
   },
   "outputs": [
    {
     "name": "stdout",
     "output_type": "stream",
     "text": [
      "Drive already mounted at /content/drive; to attempt to forcibly remount, call drive.mount(\"/content/drive\", force_remount=True).\n"
     ]
    }
   ],
   "source": [
    "from google.colab import drive\n",
    "drive.mount('/content/drive')\n",
    "df = pd.read_csv(\"/content/drive/MyDrive/ML_proj/Reviews.csv\")\n"
   ]
  },
  {
   "cell_type": "markdown",
   "metadata": {
    "id": "dmIKZ92olkbS"
   },
   "source": [
    "# EDA - ניתוח נתונים"
   ]
  },
  {
   "cell_type": "markdown",
   "metadata": {
    "id": "mGBzA0ghoald"
   },
   "source": [
    "## :מידע בסיסי על הנתונים"
   ]
  },
  {
   "cell_type": "code",
   "execution_count": 3,
   "metadata": {
    "colab": {
     "base_uri": "https://localhost:8080/",
     "height": 204
    },
    "id": "3hD3ABLpDX8W",
    "outputId": "b670ed79-5736-4531-f109-811a3da8c661"
   },
   "outputs": [
    {
     "data": {
      "text/html": [
       "\n",
       "  <div id=\"df-9219726f-c24b-40e9-aa75-0738bd5f5a4a\">\n",
       "    <div class=\"colab-df-container\">\n",
       "      <div>\n",
       "<style scoped>\n",
       "    .dataframe tbody tr th:only-of-type {\n",
       "        vertical-align: middle;\n",
       "    }\n",
       "\n",
       "    .dataframe tbody tr th {\n",
       "        vertical-align: top;\n",
       "    }\n",
       "\n",
       "    .dataframe thead th {\n",
       "        text-align: right;\n",
       "    }\n",
       "</style>\n",
       "<table border=\"1\" class=\"dataframe\">\n",
       "  <thead>\n",
       "    <tr style=\"text-align: right;\">\n",
       "      <th></th>\n",
       "      <th>Id</th>\n",
       "      <th>ProductId</th>\n",
       "      <th>UserId</th>\n",
       "      <th>ProfileName</th>\n",
       "      <th>HelpfulnessNumerator</th>\n",
       "      <th>HelpfulnessDenominator</th>\n",
       "      <th>Score</th>\n",
       "      <th>Time</th>\n",
       "      <th>Summary</th>\n",
       "      <th>Text</th>\n",
       "    </tr>\n",
       "  </thead>\n",
       "  <tbody>\n",
       "    <tr>\n",
       "      <th>0</th>\n",
       "      <td>1</td>\n",
       "      <td>B001E4KFG0</td>\n",
       "      <td>A3SGXH7AUHU8GW</td>\n",
       "      <td>delmartian</td>\n",
       "      <td>1</td>\n",
       "      <td>1</td>\n",
       "      <td>5</td>\n",
       "      <td>1303862400</td>\n",
       "      <td>Good Quality Dog Food</td>\n",
       "      <td>I have bought several of the Vitality canned d...</td>\n",
       "    </tr>\n",
       "    <tr>\n",
       "      <th>1</th>\n",
       "      <td>2</td>\n",
       "      <td>B00813GRG4</td>\n",
       "      <td>A1D87F6ZCVE5NK</td>\n",
       "      <td>dll pa</td>\n",
       "      <td>0</td>\n",
       "      <td>0</td>\n",
       "      <td>1</td>\n",
       "      <td>1346976000</td>\n",
       "      <td>Not as Advertised</td>\n",
       "      <td>Product arrived labeled as Jumbo Salted Peanut...</td>\n",
       "    </tr>\n",
       "    <tr>\n",
       "      <th>2</th>\n",
       "      <td>3</td>\n",
       "      <td>B000LQOCH0</td>\n",
       "      <td>ABXLMWJIXXAIN</td>\n",
       "      <td>Natalia Corres \"Natalia Corres\"</td>\n",
       "      <td>1</td>\n",
       "      <td>1</td>\n",
       "      <td>4</td>\n",
       "      <td>1219017600</td>\n",
       "      <td>\"Delight\" says it all</td>\n",
       "      <td>This is a confection that has been around a fe...</td>\n",
       "    </tr>\n",
       "    <tr>\n",
       "      <th>3</th>\n",
       "      <td>4</td>\n",
       "      <td>B000UA0QIQ</td>\n",
       "      <td>A395BORC6FGVXV</td>\n",
       "      <td>Karl</td>\n",
       "      <td>3</td>\n",
       "      <td>3</td>\n",
       "      <td>2</td>\n",
       "      <td>1307923200</td>\n",
       "      <td>Cough Medicine</td>\n",
       "      <td>If you are looking for the secret ingredient i...</td>\n",
       "    </tr>\n",
       "    <tr>\n",
       "      <th>4</th>\n",
       "      <td>5</td>\n",
       "      <td>B006K2ZZ7K</td>\n",
       "      <td>A1UQRSCLF8GW1T</td>\n",
       "      <td>Michael D. Bigham \"M. Wassir\"</td>\n",
       "      <td>0</td>\n",
       "      <td>0</td>\n",
       "      <td>5</td>\n",
       "      <td>1350777600</td>\n",
       "      <td>Great taffy</td>\n",
       "      <td>Great taffy at a great price.  There was a wid...</td>\n",
       "    </tr>\n",
       "  </tbody>\n",
       "</table>\n",
       "</div>\n",
       "      <button class=\"colab-df-convert\" onclick=\"convertToInteractive('df-9219726f-c24b-40e9-aa75-0738bd5f5a4a')\"\n",
       "              title=\"Convert this dataframe to an interactive table.\"\n",
       "              style=\"display:none;\">\n",
       "        \n",
       "  <svg xmlns=\"http://www.w3.org/2000/svg\" height=\"24px\"viewBox=\"0 0 24 24\"\n",
       "       width=\"24px\">\n",
       "    <path d=\"M0 0h24v24H0V0z\" fill=\"none\"/>\n",
       "    <path d=\"M18.56 5.44l.94 2.06.94-2.06 2.06-.94-2.06-.94-.94-2.06-.94 2.06-2.06.94zm-11 1L8.5 8.5l.94-2.06 2.06-.94-2.06-.94L8.5 2.5l-.94 2.06-2.06.94zm10 10l.94 2.06.94-2.06 2.06-.94-2.06-.94-.94-2.06-.94 2.06-2.06.94z\"/><path d=\"M17.41 7.96l-1.37-1.37c-.4-.4-.92-.59-1.43-.59-.52 0-1.04.2-1.43.59L10.3 9.45l-7.72 7.72c-.78.78-.78 2.05 0 2.83L4 21.41c.39.39.9.59 1.41.59.51 0 1.02-.2 1.41-.59l7.78-7.78 2.81-2.81c.8-.78.8-2.07 0-2.86zM5.41 20L4 18.59l7.72-7.72 1.47 1.35L5.41 20z\"/>\n",
       "  </svg>\n",
       "      </button>\n",
       "      \n",
       "  <style>\n",
       "    .colab-df-container {\n",
       "      display:flex;\n",
       "      flex-wrap:wrap;\n",
       "      gap: 12px;\n",
       "    }\n",
       "\n",
       "    .colab-df-convert {\n",
       "      background-color: #E8F0FE;\n",
       "      border: none;\n",
       "      border-radius: 50%;\n",
       "      cursor: pointer;\n",
       "      display: none;\n",
       "      fill: #1967D2;\n",
       "      height: 32px;\n",
       "      padding: 0 0 0 0;\n",
       "      width: 32px;\n",
       "    }\n",
       "\n",
       "    .colab-df-convert:hover {\n",
       "      background-color: #E2EBFA;\n",
       "      box-shadow: 0px 1px 2px rgba(60, 64, 67, 0.3), 0px 1px 3px 1px rgba(60, 64, 67, 0.15);\n",
       "      fill: #174EA6;\n",
       "    }\n",
       "\n",
       "    [theme=dark] .colab-df-convert {\n",
       "      background-color: #3B4455;\n",
       "      fill: #D2E3FC;\n",
       "    }\n",
       "\n",
       "    [theme=dark] .colab-df-convert:hover {\n",
       "      background-color: #434B5C;\n",
       "      box-shadow: 0px 1px 3px 1px rgba(0, 0, 0, 0.15);\n",
       "      filter: drop-shadow(0px 1px 2px rgba(0, 0, 0, 0.3));\n",
       "      fill: #FFFFFF;\n",
       "    }\n",
       "  </style>\n",
       "\n",
       "      <script>\n",
       "        const buttonEl =\n",
       "          document.querySelector('#df-9219726f-c24b-40e9-aa75-0738bd5f5a4a button.colab-df-convert');\n",
       "        buttonEl.style.display =\n",
       "          google.colab.kernel.accessAllowed ? 'block' : 'none';\n",
       "\n",
       "        async function convertToInteractive(key) {\n",
       "          const element = document.querySelector('#df-9219726f-c24b-40e9-aa75-0738bd5f5a4a');\n",
       "          const dataTable =\n",
       "            await google.colab.kernel.invokeFunction('convertToInteractive',\n",
       "                                                     [key], {});\n",
       "          if (!dataTable) return;\n",
       "\n",
       "          const docLinkHtml = 'Like what you see? Visit the ' +\n",
       "            '<a target=\"_blank\" href=https://colab.research.google.com/notebooks/data_table.ipynb>data table notebook</a>'\n",
       "            + ' to learn more about interactive tables.';\n",
       "          element.innerHTML = '';\n",
       "          dataTable['output_type'] = 'display_data';\n",
       "          await google.colab.output.renderOutput(dataTable, element);\n",
       "          const docLink = document.createElement('div');\n",
       "          docLink.innerHTML = docLinkHtml;\n",
       "          element.appendChild(docLink);\n",
       "        }\n",
       "      </script>\n",
       "    </div>\n",
       "  </div>\n",
       "  "
      ],
      "text/plain": [
       "   Id   ProductId          UserId                      ProfileName  \\\n",
       "0   1  B001E4KFG0  A3SGXH7AUHU8GW                       delmartian   \n",
       "1   2  B00813GRG4  A1D87F6ZCVE5NK                           dll pa   \n",
       "2   3  B000LQOCH0   ABXLMWJIXXAIN  Natalia Corres \"Natalia Corres\"   \n",
       "3   4  B000UA0QIQ  A395BORC6FGVXV                             Karl   \n",
       "4   5  B006K2ZZ7K  A1UQRSCLF8GW1T    Michael D. Bigham \"M. Wassir\"   \n",
       "\n",
       "   HelpfulnessNumerator  HelpfulnessDenominator  Score        Time  \\\n",
       "0                     1                       1      5  1303862400   \n",
       "1                     0                       0      1  1346976000   \n",
       "2                     1                       1      4  1219017600   \n",
       "3                     3                       3      2  1307923200   \n",
       "4                     0                       0      5  1350777600   \n",
       "\n",
       "                 Summary                                               Text  \n",
       "0  Good Quality Dog Food  I have bought several of the Vitality canned d...  \n",
       "1      Not as Advertised  Product arrived labeled as Jumbo Salted Peanut...  \n",
       "2  \"Delight\" says it all  This is a confection that has been around a fe...  \n",
       "3         Cough Medicine  If you are looking for the secret ingredient i...  \n",
       "4            Great taffy  Great taffy at a great price.  There was a wid...  "
      ]
     },
     "execution_count": 3,
     "metadata": {},
     "output_type": "execute_result"
    }
   ],
   "source": [
    "df.head()"
   ]
  },
  {
   "cell_type": "code",
   "execution_count": 4,
   "metadata": {
    "colab": {
     "base_uri": "https://localhost:8080/"
    },
    "id": "zh9SvJFFmFS_",
    "outputId": "a684f137-f6d0-48cc-afc4-9ac3f27d7860"
   },
   "outputs": [
    {
     "name": "stdout",
     "output_type": "stream",
     "text": [
      "Id                         0\n",
      "ProductId                  0\n",
      "UserId                     0\n",
      "ProfileName               16\n",
      "HelpfulnessNumerator       0\n",
      "HelpfulnessDenominator     0\n",
      "Score                      0\n",
      "Time                       0\n",
      "Summary                   27\n",
      "Text                       0\n",
      "dtype: int64\n"
     ]
    }
   ],
   "source": [
    "# Check if there are any null values and drop them\n",
    "print(df.isnull().sum())\n",
    "df = df.dropna().reset_index()"
   ]
  },
  {
   "cell_type": "code",
   "execution_count": 5,
   "metadata": {
    "colab": {
     "base_uri": "https://localhost:8080/"
    },
    "id": "bc1tSLd-nr3h",
    "outputId": "699568aa-2af4-4828-bd34-9cb09c94c1da"
   },
   "outputs": [
    {
     "name": "stdout",
     "output_type": "stream",
     "text": [
      "<class 'pandas.core.frame.DataFrame'>\n",
      "RangeIndex: 568411 entries, 0 to 568410\n",
      "Data columns (total 11 columns):\n",
      " #   Column                  Non-Null Count   Dtype \n",
      "---  ------                  --------------   ----- \n",
      " 0   index                   568411 non-null  int64 \n",
      " 1   Id                      568411 non-null  int64 \n",
      " 2   ProductId               568411 non-null  object\n",
      " 3   UserId                  568411 non-null  object\n",
      " 4   ProfileName             568411 non-null  object\n",
      " 5   HelpfulnessNumerator    568411 non-null  int64 \n",
      " 6   HelpfulnessDenominator  568411 non-null  int64 \n",
      " 7   Score                   568411 non-null  int64 \n",
      " 8   Time                    568411 non-null  int64 \n",
      " 9   Summary                 568411 non-null  object\n",
      " 10  Text                    568411 non-null  object\n",
      "dtypes: int64(6), object(5)\n",
      "memory usage: 47.7+ MB\n"
     ]
    }
   ],
   "source": [
    "df.info()"
   ]
  },
  {
   "cell_type": "code",
   "execution_count": 6,
   "metadata": {
    "colab": {
     "base_uri": "https://localhost:8080/"
    },
    "id": "4aRtYuy_m_rS",
    "outputId": "f3891bff-538e-4608-b96b-6e026f2f96e6"
   },
   "outputs": [
    {
     "name": "stdout",
     "output_type": "stream",
     "text": [
      "There is: 74258 products\n",
      "There is: 256047 Users\n",
      "There is: 568411 reviews\n"
     ]
    }
   ],
   "source": [
    "print(\"There is: \" +  str(df[\"ProductId\"].unique().size) + \" products\")\n",
    "print(\"There is: \" +  str(df[\"UserId\"].unique().size) + \" Users\")\n",
    "print(\"There is: \" +  str(df[\"UserId\"].size) + \" reviews\")"
   ]
  },
  {
   "cell_type": "markdown",
   "metadata": {
    "id": "DaiXBTagpAiJ"
   },
   "source": [
    "## :התפלגות הנתונים לפי המשתנה המוסבר (מספר הכוכבים) 1-5"
   ]
  },
  {
   "cell_type": "code",
   "execution_count": 7,
   "metadata": {
    "colab": {
     "base_uri": "https://localhost:8080/",
     "height": 279
    },
    "id": "i_e63twHm3VQ",
    "outputId": "c5d32f65-a366-4315-99ee-53a4d9ca7a95"
   },
   "outputs": [
    {
     "data": {
      "text/plain": [
       "<matplotlib.axes._subplots.AxesSubplot at 0x7ff3d1578e50>"
      ]
     },
     "execution_count": 7,
     "metadata": {},
     "output_type": "execute_result"
    },
    {
     "data": {
      "image/png": "[encoded data removed]",
      "text/plain": [
       "<Figure size 432x288 with 1 Axes>"
      ]
     },
     "metadata": {
      "needs_background": "light"
     },
     "output_type": "display_data"
    }
   ],
   "source": [
    "df[\"Score\"].value_counts().plot.bar()"
   ]
  },
  {
   "cell_type": "markdown",
   "metadata": {
    "id": "EV_hKka9nO2v"
   },
   "source": [
    "אנו יכולים לראות כי הדאטה אינו מאוזן ורוב הביקורות הן ביקורות של דירוג 5."
   ]
  },
  {
   "cell_type": "markdown",
   "metadata": {
    "id": "ky1vr4Nb0fGi"
   },
   "source": [
    "## בדיקת אורך הביקורת:"
   ]
  },
  {
   "cell_type": "code",
   "execution_count": 8,
   "metadata": {
    "id": "L_4mDDCzne3n"
   },
   "outputs": [],
   "source": [
    "# Get the size of the reviews\n",
    "df[\"Text_size\"] = df.Text.apply(lambda x: len(str(x).split()))"
   ]
  },
  {
   "cell_type": "markdown",
   "metadata": {
    "id": "uu7mdLr2tLPd"
   },
   "source": [
    "הביקורות הקצרות ביותר:"
   ]
  },
  {
   "cell_type": "code",
   "execution_count": 9,
   "metadata": {
    "colab": {
     "base_uri": "https://localhost:8080/",
     "height": 111
    },
    "id": "PGIMNQcHpLNB",
    "outputId": "c9bcb970-907d-4f13-e2ce-647a446f24e9"
   },
   "outputs": [
    {
     "data": {
      "text/html": [
       "\n",
       "  <div id=\"df-a9f4dee7-579e-4703-92b9-90bfee7f2738\">\n",
       "    <div class=\"colab-df-container\">\n",
       "      <div>\n",
       "<style scoped>\n",
       "    .dataframe tbody tr th:only-of-type {\n",
       "        vertical-align: middle;\n",
       "    }\n",
       "\n",
       "    .dataframe tbody tr th {\n",
       "        vertical-align: top;\n",
       "    }\n",
       "\n",
       "    .dataframe thead th {\n",
       "        text-align: right;\n",
       "    }\n",
       "</style>\n",
       "<table border=\"1\" class=\"dataframe\">\n",
       "  <thead>\n",
       "    <tr style=\"text-align: right;\">\n",
       "      <th></th>\n",
       "      <th>index</th>\n",
       "      <th>Id</th>\n",
       "      <th>ProductId</th>\n",
       "      <th>UserId</th>\n",
       "      <th>ProfileName</th>\n",
       "      <th>HelpfulnessNumerator</th>\n",
       "      <th>HelpfulnessDenominator</th>\n",
       "      <th>Score</th>\n",
       "      <th>Time</th>\n",
       "      <th>Summary</th>\n",
       "      <th>Text</th>\n",
       "      <th>Text_size</th>\n",
       "    </tr>\n",
       "  </thead>\n",
       "  <tbody>\n",
       "    <tr>\n",
       "      <th>168537</th>\n",
       "      <td>168550</td>\n",
       "      <td>168551</td>\n",
       "      <td>B0001ES9F8</td>\n",
       "      <td>A33Q5O9WGJUKWN</td>\n",
       "      <td>Seth Goldstein</td>\n",
       "      <td>0</td>\n",
       "      <td>0</td>\n",
       "      <td>5</td>\n",
       "      <td>1137283200</td>\n",
       "      <td>good</td>\n",
       "      <td>they are excellent</td>\n",
       "      <td>3</td>\n",
       "    </tr>\n",
       "    <tr>\n",
       "      <th>453633</th>\n",
       "      <td>453668</td>\n",
       "      <td>453669</td>\n",
       "      <td>B0001QYYUK</td>\n",
       "      <td>A3S7N11XRRTUU6</td>\n",
       "      <td>Bob</td>\n",
       "      <td>5</td>\n",
       "      <td>14</td>\n",
       "      <td>1</td>\n",
       "      <td>1136246400</td>\n",
       "      <td>Not worth it</td>\n",
       "      <td>Not worth it</td>\n",
       "      <td>3</td>\n",
       "    </tr>\n",
       "  </tbody>\n",
       "</table>\n",
       "</div>\n",
       "      <button class=\"colab-df-convert\" onclick=\"convertToInteractive('df-a9f4dee7-579e-4703-92b9-90bfee7f2738')\"\n",
       "              title=\"Convert this dataframe to an interactive table.\"\n",
       "              style=\"display:none;\">\n",
       "        \n",
       "  <svg xmlns=\"http://www.w3.org/2000/svg\" height=\"24px\"viewBox=\"0 0 24 24\"\n",
       "       width=\"24px\">\n",
       "    <path d=\"M0 0h24v24H0V0z\" fill=\"none\"/>\n",
       "    <path d=\"M18.56 5.44l.94 2.06.94-2.06 2.06-.94-2.06-.94-.94-2.06-.94 2.06-2.06.94zm-11 1L8.5 8.5l.94-2.06 2.06-.94-2.06-.94L8.5 2.5l-.94 2.06-2.06.94zm10 10l.94 2.06.94-2.06 2.06-.94-2.06-.94-.94-2.06-.94 2.06-2.06.94z\"/><path d=\"M17.41 7.96l-1.37-1.37c-.4-.4-.92-.59-1.43-.59-.52 0-1.04.2-1.43.59L10.3 9.45l-7.72 7.72c-.78.78-.78 2.05 0 2.83L4 21.41c.39.39.9.59 1.41.59.51 0 1.02-.2 1.41-.59l7.78-7.78 2.81-2.81c.8-.78.8-2.07 0-2.86zM5.41 20L4 18.59l7.72-7.72 1.47 1.35L5.41 20z\"/>\n",
       "  </svg>\n",
       "      </button>\n",
       "      \n",
       "  <style>\n",
       "    .colab-df-container {\n",
       "      display:flex;\n",
       "      flex-wrap:wrap;\n",
       "      gap: 12px;\n",
       "    }\n",
       "\n",
       "    .colab-df-convert {\n",
       "      background-color: #E8F0FE;\n",
       "      border: none;\n",
       "      border-radius: 50%;\n",
       "      cursor: pointer;\n",
       "      display: none;\n",
       "      fill: #1967D2;\n",
       "      height: 32px;\n",
       "      padding: 0 0 0 0;\n",
       "      width: 32px;\n",
       "    }\n",
       "\n",
       "    .colab-df-convert:hover {\n",
       "      background-color: #E2EBFA;\n",
       "      box-shadow: 0px 1px 2px rgba(60, 64, 67, 0.3), 0px 1px 3px 1px rgba(60, 64, 67, 0.15);\n",
       "      fill: #174EA6;\n",
       "    }\n",
       "\n",
       "    [theme=dark] .colab-df-convert {\n",
       "      background-color: #3B4455;\n",
       "      fill: #D2E3FC;\n",
       "    }\n",
       "\n",
       "    [theme=dark] .colab-df-convert:hover {\n",
       "      background-color: #434B5C;\n",
       "      box-shadow: 0px 1px 3px 1px rgba(0, 0, 0, 0.15);\n",
       "      filter: drop-shadow(0px 1px 2px rgba(0, 0, 0, 0.3));\n",
       "      fill: #FFFFFF;\n",
       "    }\n",
       "  </style>\n",
       "\n",
       "      <script>\n",
       "        const buttonEl =\n",
       "          document.querySelector('#df-a9f4dee7-579e-4703-92b9-90bfee7f2738 button.colab-df-convert');\n",
       "        buttonEl.style.display =\n",
       "          google.colab.kernel.accessAllowed ? 'block' : 'none';\n",
       "\n",
       "        async function convertToInteractive(key) {\n",
       "          const element = document.querySelector('#df-a9f4dee7-579e-4703-92b9-90bfee7f2738');\n",
       "          const dataTable =\n",
       "            await google.colab.kernel.invokeFunction('convertToInteractive',\n",
       "                                                     [key], {});\n",
       "          if (!dataTable) return;\n",
       "\n",
       "          const docLinkHtml = 'Like what you see? Visit the ' +\n",
       "            '<a target=\"_blank\" href=https://colab.research.google.com/notebooks/data_table.ipynb>data table notebook</a>'\n",
       "            + ' to learn more about interactive tables.';\n",
       "          element.innerHTML = '';\n",
       "          dataTable['output_type'] = 'display_data';\n",
       "          await google.colab.output.renderOutput(dataTable, element);\n",
       "          const docLink = document.createElement('div');\n",
       "          docLink.innerHTML = docLinkHtml;\n",
       "          element.appendChild(docLink);\n",
       "        }\n",
       "      </script>\n",
       "    </div>\n",
       "  </div>\n",
       "  "
      ],
      "text/plain": [
       "         index      Id   ProductId          UserId     ProfileName  \\\n",
       "168537  168550  168551  B0001ES9F8  A33Q5O9WGJUKWN  Seth Goldstein   \n",
       "453633  453668  453669  B0001QYYUK  A3S7N11XRRTUU6             Bob   \n",
       "\n",
       "        HelpfulnessNumerator  HelpfulnessDenominator  Score        Time  \\\n",
       "168537                     0                       0      5  1137283200   \n",
       "453633                     5                      14      1  1136246400   \n",
       "\n",
       "             Summary                Text  Text_size  \n",
       "168537          good  they are excellent          3  \n",
       "453633  Not worth it        Not worth it          3  "
      ]
     },
     "execution_count": 9,
     "metadata": {},
     "output_type": "execute_result"
    }
   ],
   "source": [
    "df[df[\"Text_size\"] == df[\"Text_size\"].min()]"
   ]
  },
  {
   "cell_type": "code",
   "execution_count": 10,
   "metadata": {
    "colab": {
     "base_uri": "https://localhost:8080/"
    },
    "id": "D8C21Iqfpw6g",
    "outputId": "6bdf3877-b11b-4309-de8a-d1e9e8701207"
   },
   "outputs": [
    {
     "name": "stdout",
     "output_type": "stream",
     "text": [
      "the mean reviews size is: 80.26739982160795 words!\n"
     ]
    }
   ],
   "source": [
    "print(\"the mean reviews size is: \" + str(df[\"Text_size\"].mean()) + \" words!\")"
   ]
  },
  {
   "cell_type": "markdown",
   "metadata": {
    "id": "bWBpCQQHweb5"
   },
   "source": [
    "## מטריצת קורלציה:"
   ]
  },
  {
   "cell_type": "code",
   "execution_count": 11,
   "metadata": {
    "colab": {
     "base_uri": "https://localhost:8080/",
     "height": 629
    },
    "id": "JKScYqHzrvYI",
    "outputId": "2abdfb8a-aaf7-4214-eb8e-d15e0ee81745"
   },
   "outputs": [
    {
     "data": {
      "image/png": "[encoded data removed]",
      "text/plain": [
       "<Figure size 640x640 with 2 Axes>"
      ]
     },
     "metadata": {},
     "output_type": "display_data"
    }
   ],
   "source": [
    "df1 = df[[col for col in df if df[col].nunique() > 1]] # keep columns where there are more than 1 unique values\n",
    "corr = df1.corr()\n",
    "plt.figure(num=None, figsize=(8, 8), dpi=80, facecolor='w', edgecolor='k')\n",
    "corrMat = plt.matshow(corr, fignum = 1)\n",
    "plt.xticks(range(len(corr.columns)), corr.columns, rotation=90)\n",
    "plt.yticks(range(len(corr.columns)), corr.columns)\n",
    "plt.gca().xaxis.tick_bottom()\n",
    "plt.colorbar(corrMat)\n",
    "plt.show()\n"
   ]
  },
  {
   "cell_type": "markdown",
   "metadata": {
    "id": "v16Z4jDrxpi7"
   },
   "source": [
    "## נבדוק האם ביקורת ארוכה היא בהכרח ביקורת מועילה"
   ]
  },
  {
   "cell_type": "markdown",
   "metadata": {
    "id": "__A29kLe6A27"
   },
   "source": [
    "נראה את הביקורות הארוכות ביותר"
   ]
  },
  {
   "cell_type": "code",
   "execution_count": 12,
   "metadata": {
    "colab": {
     "base_uri": "https://localhost:8080/",
     "height": 204
    },
    "id": "2lXEDIrE0soL",
    "outputId": "626d8420-72eb-46e1-c2bc-577e1afb3eb4"
   },
   "outputs": [
    {
     "data": {
      "text/html": [
       "\n",
       "  <div id=\"df-20bf0984-ac51-44ea-9e50-fd2101441ce3\">\n",
       "    <div class=\"colab-df-container\">\n",
       "      <div>\n",
       "<style scoped>\n",
       "    .dataframe tbody tr th:only-of-type {\n",
       "        vertical-align: middle;\n",
       "    }\n",
       "\n",
       "    .dataframe tbody tr th {\n",
       "        vertical-align: top;\n",
       "    }\n",
       "\n",
       "    .dataframe thead th {\n",
       "        text-align: right;\n",
       "    }\n",
       "</style>\n",
       "<table border=\"1\" class=\"dataframe\">\n",
       "  <thead>\n",
       "    <tr style=\"text-align: right;\">\n",
       "      <th></th>\n",
       "      <th>HelpfulnessNumerator</th>\n",
       "      <th>Text_size</th>\n",
       "    </tr>\n",
       "  </thead>\n",
       "  <tbody>\n",
       "    <tr>\n",
       "      <th>541116</th>\n",
       "      <td>9</td>\n",
       "      <td>2149</td>\n",
       "    </tr>\n",
       "    <tr>\n",
       "      <th>68694</th>\n",
       "      <td>4</td>\n",
       "      <td>2520</td>\n",
       "    </tr>\n",
       "    <tr>\n",
       "      <th>496714</th>\n",
       "      <td>10</td>\n",
       "      <td>3432</td>\n",
       "    </tr>\n",
       "    <tr>\n",
       "      <th>455358</th>\n",
       "      <td>10</td>\n",
       "      <td>3432</td>\n",
       "    </tr>\n",
       "    <tr>\n",
       "      <th>290789</th>\n",
       "      <td>10</td>\n",
       "      <td>3432</td>\n",
       "    </tr>\n",
       "  </tbody>\n",
       "</table>\n",
       "</div>\n",
       "      <button class=\"colab-df-convert\" onclick=\"convertToInteractive('df-20bf0984-ac51-44ea-9e50-fd2101441ce3')\"\n",
       "              title=\"Convert this dataframe to an interactive table.\"\n",
       "              style=\"display:none;\">\n",
       "        \n",
       "  <svg xmlns=\"http://www.w3.org/2000/svg\" height=\"24px\"viewBox=\"0 0 24 24\"\n",
       "       width=\"24px\">\n",
       "    <path d=\"M0 0h24v24H0V0z\" fill=\"none\"/>\n",
       "    <path d=\"M18.56 5.44l.94 2.06.94-2.06 2.06-.94-2.06-.94-.94-2.06-.94 2.06-2.06.94zm-11 1L8.5 8.5l.94-2.06 2.06-.94-2.06-.94L8.5 2.5l-.94 2.06-2.06.94zm10 10l.94 2.06.94-2.06 2.06-.94-2.06-.94-.94-2.06-.94 2.06-2.06.94z\"/><path d=\"M17.41 7.96l-1.37-1.37c-.4-.4-.92-.59-1.43-.59-.52 0-1.04.2-1.43.59L10.3 9.45l-7.72 7.72c-.78.78-.78 2.05 0 2.83L4 21.41c.39.39.9.59 1.41.59.51 0 1.02-.2 1.41-.59l7.78-7.78 2.81-2.81c.8-.78.8-2.07 0-2.86zM5.41 20L4 18.59l7.72-7.72 1.47 1.35L5.41 20z\"/>\n",
       "  </svg>\n",
       "      </button>\n",
       "      \n",
       "  <style>\n",
       "    .colab-df-container {\n",
       "      display:flex;\n",
       "      flex-wrap:wrap;\n",
       "      gap: 12px;\n",
       "    }\n",
       "\n",
       "    .colab-df-convert {\n",
       "      background-color: #E8F0FE;\n",
       "      border: none;\n",
       "      border-radius: 50%;\n",
       "      cursor: pointer;\n",
       "      display: none;\n",
       "      fill: #1967D2;\n",
       "      height: 32px;\n",
       "      padding: 0 0 0 0;\n",
       "      width: 32px;\n",
       "    }\n",
       "\n",
       "    .colab-df-convert:hover {\n",
       "      background-color: #E2EBFA;\n",
       "      box-shadow: 0px 1px 2px rgba(60, 64, 67, 0.3), 0px 1px 3px 1px rgba(60, 64, 67, 0.15);\n",
       "      fill: #174EA6;\n",
       "    }\n",
       "\n",
       "    [theme=dark] .colab-df-convert {\n",
       "      background-color: #3B4455;\n",
       "      fill: #D2E3FC;\n",
       "    }\n",
       "\n",
       "    [theme=dark] .colab-df-convert:hover {\n",
       "      background-color: #434B5C;\n",
       "      box-shadow: 0px 1px 3px 1px rgba(0, 0, 0, 0.15);\n",
       "      filter: drop-shadow(0px 1px 2px rgba(0, 0, 0, 0.3));\n",
       "      fill: #FFFFFF;\n",
       "    }\n",
       "  </style>\n",
       "\n",
       "      <script>\n",
       "        const buttonEl =\n",
       "          document.querySelector('#df-20bf0984-ac51-44ea-9e50-fd2101441ce3 button.colab-df-convert');\n",
       "        buttonEl.style.display =\n",
       "          google.colab.kernel.accessAllowed ? 'block' : 'none';\n",
       "\n",
       "        async function convertToInteractive(key) {\n",
       "          const element = document.querySelector('#df-20bf0984-ac51-44ea-9e50-fd2101441ce3');\n",
       "          const dataTable =\n",
       "            await google.colab.kernel.invokeFunction('convertToInteractive',\n",
       "                                                     [key], {});\n",
       "          if (!dataTable) return;\n",
       "\n",
       "          const docLinkHtml = 'Like what you see? Visit the ' +\n",
       "            '<a target=\"_blank\" href=https://colab.research.google.com/notebooks/data_table.ipynb>data table notebook</a>'\n",
       "            + ' to learn more about interactive tables.';\n",
       "          element.innerHTML = '';\n",
       "          dataTable['output_type'] = 'display_data';\n",
       "          await google.colab.output.renderOutput(dataTable, element);\n",
       "          const docLink = document.createElement('div');\n",
       "          docLink.innerHTML = docLinkHtml;\n",
       "          element.appendChild(docLink);\n",
       "        }\n",
       "      </script>\n",
       "    </div>\n",
       "  </div>\n",
       "  "
      ],
      "text/plain": [
       "        HelpfulnessNumerator  Text_size\n",
       "541116                     9       2149\n",
       "68694                      4       2520\n",
       "496714                    10       3432\n",
       "455358                    10       3432\n",
       "290789                    10       3432"
      ]
     },
     "execution_count": 12,
     "metadata": {},
     "output_type": "execute_result"
    }
   ],
   "source": [
    "slist = df[[\"HelpfulnessNumerator\", \"Text_size\"]].sort_values(\"Text_size\") # sort the list from the shortest to longest reviews.\n",
    "slist.tail() \n"
   ]
  },
  {
   "cell_type": "markdown",
   "metadata": {
    "id": "pKNheiFE6qbB"
   },
   "source": [
    "נבדוק האם אורך הביקורת משפיע בצורה ישירה על האם הביקורת דורגה כמועילה"
   ]
  },
  {
   "cell_type": "code",
   "execution_count": 13,
   "metadata": {
    "colab": {
     "base_uri": "https://localhost:8080/",
     "height": 297
    },
    "id": "oJ2WLC--xmCK",
    "outputId": "13c55521-0f29-4f9b-9aa1-1504596565a1"
   },
   "outputs": [
    {
     "data": {
      "text/plain": [
       "<matplotlib.axes._subplots.AxesSubplot at 0x7ff3d14eac10>"
      ]
     },
     "execution_count": 13,
     "metadata": {},
     "output_type": "execute_result"
    },
    {
     "data": {
      "image/png": "[encoded data removed]",
      "text/plain": [
       "<Figure size 432x288 with 1 Axes>"
      ]
     },
     "metadata": {
      "needs_background": "light"
     },
     "output_type": "display_data"
    }
   ],
   "source": [
    "df2 = df[df[\"Text_size\"] < 1000] # only reviews that shortest than 1000 words\n",
    "slist = df2[[ \"Text_size\", \"HelpfulnessNumerator\"]].sort_values(\"Text_size\")\n",
    "slist.plot(x = \"Text_size\", y = \"HelpfulnessNumerator\" ) "
   ]
  },
  {
   "cell_type": "markdown",
   "metadata": {
    "id": "pkvwWMFFyyr6"
   },
   "source": [
    "ניסינו למצוא קשר בין אורך הביקורת לכמה אנשים חשבו שהיא מועילה אך גילינו שאין קשר ישיר הנראה לעין, ומסתמן שאנשים ירגישו שביקורת היא מועילה לפי התוכן שלה ולא האורך.\n",
    "\n"
   ]
  },
  {
   "cell_type": "markdown",
   "metadata": {
    "id": "10YcI0d05yAq"
   },
   "source": [
    "## נבדוק האם ביקורת המדורגת גבוה היא ביקורת מועילה"
   ]
  },
  {
   "cell_type": "markdown",
   "metadata": {
    "id": "Xi1SGZMj7eog"
   },
   "source": [
    "נקבץ לפי הדירוג ולאחר מכן נסכום את מספר האנשים שסימנו שהביקורת מועילה, לפי דירוג הביקורות באותו מספר"
   ]
  },
  {
   "cell_type": "code",
   "execution_count": 14,
   "metadata": {
    "colab": {
     "base_uri": "https://localhost:8080/",
     "height": 293
    },
    "id": "CIknwhmDx8JY",
    "outputId": "de96309f-9070-4841-af9f-299d698f6418"
   },
   "outputs": [
    {
     "data": {
      "text/plain": [
       "<matplotlib.axes._subplots.AxesSubplot at 0x7ff3d1028410>"
      ]
     },
     "execution_count": 14,
     "metadata": {},
     "output_type": "execute_result"
    },
    {
     "data": {
      "image/png": "[encoded data removed]",
      "text/plain": [
       "<Figure size 432x288 with 1 Axes>"
      ]
     },
     "metadata": {
      "needs_background": "light"
     },
     "output_type": "display_data"
    }
   ],
   "source": [
    "df.groupby(\"Score\").sum()[\"HelpfulnessNumerator\"].plot.bar()"
   ]
  },
  {
   "cell_type": "markdown",
   "metadata": {
    "id": "2MuHCiim6fAr"
   },
   "source": [
    "ניתן לראות שביקורות \"קיצוניות\" נמצאו כיותר מועילות כאשר ביקורות שנתנו 5 כוכבים נמצאו המועילות ביותר!"
   ]
  },
  {
   "cell_type": "markdown",
   "metadata": {
    "id": "_lmqKEmW7aOS"
   },
   "source": [
    "# שאלה 1 - האם משתמשים עקביים בביקורות שלהם?"
   ]
  },
  {
   "cell_type": "markdown",
   "metadata": {
    "id": "MBXgraLz9URe"
   },
   "source": [
    "מספר האנשים עם יותר מ 20 ביקורות הוא 1702"
   ]
  },
  {
   "cell_type": "markdown",
   "metadata": {
    "id": "rahyilg59wOy"
   },
   "source": [
    "נבדוק האם אנשים נותים להיות עקביים בביקורות שלהם על ידי \"גרופ בי\" לפי המשתמשים, לקיחת ממוצע ביקורות של כל משתמש ובדיקה כמה פעמים הממוצע הופיע אצל כלל המשתמשים."
   ]
  },
  {
   "cell_type": "markdown",
   "metadata": {
    "id": "JaYjk04Y-XaM"
   },
   "source": [
    "להפתעתנו גילינו שיש \"פיקים\" במספרים עגולים לכן בדקנו האם יש אנשים שלאורך כל הביקורות שלהם נתנו את אותו הדירוג לכל המוצרים.\n",
    "\n",
    "התשובה שגילינו היא ש241 אנשים מתוך 1702 אנשים שדירגו מעל 20 פעמים בחרו לדרג באותו הציון את כלל המוצרים שדירגו!\n",
    "\n",
    "בנוסף אם משתמשים היו לא עקביים בדירוגים שלהם היינו צריכים לראות בגרף המצורף למטה התפלגות שקרובה להתפלגות נורמאלית אבל לא כך הדבר. בנוסף בין ציון 3.5 ל 5 יש עליה קלה ואפשר להסביר זאת גם לפי זה שרוב הבקורות הם 5."
   ]
  },
  {
   "cell_type": "code",
   "execution_count": 15,
   "metadata": {
    "colab": {
     "base_uri": "https://localhost:8080/"
    },
    "id": "Fh3np7079UwE",
    "outputId": "f6f9c659-39b9-4d98-9d23-e2427b8c6b92"
   },
   "outputs": [
    {
     "data": {
      "text/plain": [
       "1702"
      ]
     },
     "execution_count": 15,
     "metadata": {},
     "output_type": "execute_result"
    }
   ],
   "source": [
    "gb = df.groupby(\"UserId\").agg({ 'Score': ['mean', 'count']})\n",
    "len(gb[gb[('Score', 'count')]>20])"
   ]
  },
  {
   "cell_type": "code",
   "execution_count": 16,
   "metadata": {
    "colab": {
     "base_uri": "https://localhost:8080/",
     "height": 284
    },
    "id": "rkWkWqY16JwN",
    "outputId": "de1dfa94-39aa-4ab5-c1e9-ea77eb52bbc2"
   },
   "outputs": [
    {
     "data": {
      "text/plain": [
       "<matplotlib.axes._subplots.AxesSubplot at 0x7ff3d14e4d90>"
      ]
     },
     "execution_count": 16,
     "metadata": {},
     "output_type": "execute_result"
    },
    {
     "data": {
      "image/png": "[encoded data removed]",
      "text/plain": [
       "<Figure size 432x288 with 1 Axes>"
      ]
     },
     "metadata": {
      "needs_background": "light"
     },
     "output_type": "display_data"
    }
   ],
   "source": [
    "gb = df.groupby(\"UserId\").agg({ 'Score': ['mean', 'count']})\n",
    "avgg = gb[gb[('Score', 'count')]>20][('Score', 'mean')].round(2).value_counts().sort_index()\n",
    "avgg.plot(x=('Score', 'mean'))"
   ]
  },
  {
   "cell_type": "code",
   "execution_count": 17,
   "metadata": {
    "colab": {
     "base_uri": "https://localhost:8080/",
     "height": 266
    },
    "id": "T6TLkKyc6-MU",
    "outputId": "b02b1a7d-b45e-4508-a1c3-88210d4618bc"
   },
   "outputs": [
    {
     "data": {
      "text/html": [
       "\n",
       "  <div id=\"df-c6437680-a510-4c5d-b45f-7da8e363f75d\">\n",
       "    <div class=\"colab-df-container\">\n",
       "      <div>\n",
       "<style scoped>\n",
       "    .dataframe tbody tr th:only-of-type {\n",
       "        vertical-align: middle;\n",
       "    }\n",
       "\n",
       "    .dataframe tbody tr th {\n",
       "        vertical-align: top;\n",
       "    }\n",
       "\n",
       "    .dataframe thead tr th {\n",
       "        text-align: left;\n",
       "    }\n",
       "\n",
       "    .dataframe thead tr:last-of-type th {\n",
       "        text-align: right;\n",
       "    }\n",
       "</style>\n",
       "<table border=\"1\" class=\"dataframe\">\n",
       "  <thead>\n",
       "    <tr>\n",
       "      <th></th>\n",
       "      <th colspan=\"3\" halign=\"left\">Score</th>\n",
       "    </tr>\n",
       "    <tr>\n",
       "      <th></th>\n",
       "      <th>mean</th>\n",
       "      <th>count</th>\n",
       "      <th>min</th>\n",
       "    </tr>\n",
       "    <tr>\n",
       "      <th>(Score, max)</th>\n",
       "      <th></th>\n",
       "      <th></th>\n",
       "      <th></th>\n",
       "    </tr>\n",
       "  </thead>\n",
       "  <tbody>\n",
       "    <tr>\n",
       "      <th>1</th>\n",
       "      <td>21</td>\n",
       "      <td>21</td>\n",
       "      <td>21</td>\n",
       "    </tr>\n",
       "    <tr>\n",
       "      <th>2</th>\n",
       "      <td>5</td>\n",
       "      <td>5</td>\n",
       "      <td>5</td>\n",
       "    </tr>\n",
       "    <tr>\n",
       "      <th>3</th>\n",
       "      <td>2</td>\n",
       "      <td>2</td>\n",
       "      <td>2</td>\n",
       "    </tr>\n",
       "    <tr>\n",
       "      <th>4</th>\n",
       "      <td>20</td>\n",
       "      <td>20</td>\n",
       "      <td>20</td>\n",
       "    </tr>\n",
       "    <tr>\n",
       "      <th>5</th>\n",
       "      <td>193</td>\n",
       "      <td>193</td>\n",
       "      <td>193</td>\n",
       "    </tr>\n",
       "  </tbody>\n",
       "</table>\n",
       "</div>\n",
       "      <button class=\"colab-df-convert\" onclick=\"convertToInteractive('df-c6437680-a510-4c5d-b45f-7da8e363f75d')\"\n",
       "              title=\"Convert this dataframe to an interactive table.\"\n",
       "              style=\"display:none;\">\n",
       "        \n",
       "  <svg xmlns=\"http://www.w3.org/2000/svg\" height=\"24px\"viewBox=\"0 0 24 24\"\n",
       "       width=\"24px\">\n",
       "    <path d=\"M0 0h24v24H0V0z\" fill=\"none\"/>\n",
       "    <path d=\"M18.56 5.44l.94 2.06.94-2.06 2.06-.94-2.06-.94-.94-2.06-.94 2.06-2.06.94zm-11 1L8.5 8.5l.94-2.06 2.06-.94-2.06-.94L8.5 2.5l-.94 2.06-2.06.94zm10 10l.94 2.06.94-2.06 2.06-.94-2.06-.94-.94-2.06-.94 2.06-2.06.94z\"/><path d=\"M17.41 7.96l-1.37-1.37c-.4-.4-.92-.59-1.43-.59-.52 0-1.04.2-1.43.59L10.3 9.45l-7.72 7.72c-.78.78-.78 2.05 0 2.83L4 21.41c.39.39.9.59 1.41.59.51 0 1.02-.2 1.41-.59l7.78-7.78 2.81-2.81c.8-.78.8-2.07 0-2.86zM5.41 20L4 18.59l7.72-7.72 1.47 1.35L5.41 20z\"/>\n",
       "  </svg>\n",
       "      </button>\n",
       "      \n",
       "  <style>\n",
       "    .colab-df-container {\n",
       "      display:flex;\n",
       "      flex-wrap:wrap;\n",
       "      gap: 12px;\n",
       "    }\n",
       "\n",
       "    .colab-df-convert {\n",
       "      background-color: #E8F0FE;\n",
       "      border: none;\n",
       "      border-radius: 50%;\n",
       "      cursor: pointer;\n",
       "      display: none;\n",
       "      fill: #1967D2;\n",
       "      height: 32px;\n",
       "      padding: 0 0 0 0;\n",
       "      width: 32px;\n",
       "    }\n",
       "\n",
       "    .colab-df-convert:hover {\n",
       "      background-color: #E2EBFA;\n",
       "      box-shadow: 0px 1px 2px rgba(60, 64, 67, 0.3), 0px 1px 3px 1px rgba(60, 64, 67, 0.15);\n",
       "      fill: #174EA6;\n",
       "    }\n",
       "\n",
       "    [theme=dark] .colab-df-convert {\n",
       "      background-color: #3B4455;\n",
       "      fill: #D2E3FC;\n",
       "    }\n",
       "\n",
       "    [theme=dark] .colab-df-convert:hover {\n",
       "      background-color: #434B5C;\n",
       "      box-shadow: 0px 1px 3px 1px rgba(0, 0, 0, 0.15);\n",
       "      filter: drop-shadow(0px 1px 2px rgba(0, 0, 0, 0.3));\n",
       "      fill: #FFFFFF;\n",
       "    }\n",
       "  </style>\n",
       "\n",
       "      <script>\n",
       "        const buttonEl =\n",
       "          document.querySelector('#df-c6437680-a510-4c5d-b45f-7da8e363f75d button.colab-df-convert');\n",
       "        buttonEl.style.display =\n",
       "          google.colab.kernel.accessAllowed ? 'block' : 'none';\n",
       "\n",
       "        async function convertToInteractive(key) {\n",
       "          const element = document.querySelector('#df-c6437680-a510-4c5d-b45f-7da8e363f75d');\n",
       "          const dataTable =\n",
       "            await google.colab.kernel.invokeFunction('convertToInteractive',\n",
       "                                                     [key], {});\n",
       "          if (!dataTable) return;\n",
       "\n",
       "          const docLinkHtml = 'Like what you see? Visit the ' +\n",
       "            '<a target=\"_blank\" href=https://colab.research.google.com/notebooks/data_table.ipynb>data table notebook</a>'\n",
       "            + ' to learn more about interactive tables.';\n",
       "          element.innerHTML = '';\n",
       "          dataTable['output_type'] = 'display_data';\n",
       "          await google.colab.output.renderOutput(dataTable, element);\n",
       "          const docLink = document.createElement('div');\n",
       "          docLink.innerHTML = docLinkHtml;\n",
       "          element.appendChild(docLink);\n",
       "        }\n",
       "      </script>\n",
       "    </div>\n",
       "  </div>\n",
       "  "
      ],
      "text/plain": [
       "             Score           \n",
       "              mean count  min\n",
       "(Score, max)                 \n",
       "1               21    21   21\n",
       "2                5     5    5\n",
       "3                2     2    2\n",
       "4               20    20   20\n",
       "5              193   193  193"
      ]
     },
     "execution_count": 17,
     "metadata": {},
     "output_type": "execute_result"
    }
   ],
   "source": [
    "a = df.groupby(\"UserId\").agg({ 'Score': ['mean', 'count', \"max\", \"min\"]})\n",
    "a[(a[('Score', 'min')]==a[('Score', 'max')]) & (a[('Score', 'count')]>20)].groupby(('Score', 'max')).count()"
   ]
  },
  {
   "cell_type": "markdown",
   "metadata": {
    "id": "z1XZMpjD9MtT"
   },
   "source": [
    " # שאלה 2 - האם מילה מסוימת מתקשרת לביקורת חיובית או שלילית"
   ]
  },
  {
   "cell_type": "markdown",
   "metadata": {
    "id": "9--nRqTc1OA5"
   },
   "source": [
    "בקטע זה חילקנו את ה\"ניקוד\" ל1 ו 0, כאשר 1 מסמן ביקורת חיובית ו 0 ביקורת שלילית. ביקורת חיובית היא 4 או 5 כוכבים ושלילית היא 1 או 2 כוכבים.(מחקנו ביקורות נטרליות)\n",
    "\n",
    "לאחר החלוקה הפעלנו אלגוריתם הסופר את מספר ההופעות של כל מילה ביקורת ובעזרת מודל ריגרסיה לוגיסטית בדקנו האם הביקורת מסווגת כחיובית או שלילית ומה ההשפעה של כל מילה על התוצאה.\n",
    "\n",
    "הפלט הוא 20 המילים החיוביות ביותר ו 20 המילים השליליות ביותר!"
   ]
  },
  {
   "cell_type": "markdown",
   "metadata": {
    "id": "1aRbySe72uwG"
   },
   "source": [
    "##### code:"
   ]
  },
  {
   "cell_type": "code",
   "execution_count": 21,
   "metadata": {
    "id": "gn1kmfx7x_0m"
   },
   "outputs": [],
   "source": [
    "df_cv = df\n",
    "df_cv = df_cv[df_cv['Score'] != 3]\n",
    "y_dict = {1:0, 2:0, 4:1, 5:1}\n",
    "y_cv = df_cv['Score'].map(y_dict)\n",
    "X_cv = df_cv[\"Text\"]\n",
    "\n",
    "clf_model = LogisticRegression()"
   ]
  },
  {
   "cell_type": "code",
   "execution_count": 19,
   "metadata": {
    "colab": {
     "base_uri": "https://localhost:8080/"
    },
    "id": "GcnF5qvk7DEd",
    "outputId": "607bfcef-01df-4af6-8099-b8d03fa239e3"
   },
   "outputs": [
    {
     "name": "stdout",
     "output_type": "stream",
     "text": [
      "Model Accuracy: 0.9369617479687167\n"
     ]
    }
   ],
   "source": [
    "model = CountVectorizer(stop_words = 'english')\n",
    "X_c = model.fit_transform(X_cv)\n",
    "X_train, X_test, y_train, y_test = train_test_split(X_c, y_cv, random_state=0)\n",
    "clf = clf_model.fit(X_train, y_train)\n",
    "acc = clf.score(X_test, y_test)\n",
    "print ('Model Accuracy: {}'.format(acc))\n",
    "    \n",
    "\n",
    "w = model.get_feature_names()\n",
    "coef = clf.coef_.tolist()[0]\n",
    "coeff_df = pd.DataFrame({'Word' : w, 'Coefficient' : coef})\n",
    "coeff_df = coeff_df.sort_values(['Coefficient', 'Word'], ascending=[0, 1])"
   ]
  },
  {
   "cell_type": "markdown",
   "metadata": {
    "id": "NMCJQU3E21SU"
   },
   "source": [
    "#### print:"
   ]
  },
  {
   "cell_type": "code",
   "execution_count": 20,
   "metadata": {
    "colab": {
     "base_uri": "https://localhost:8080/"
    },
    "id": "wj3_jf82AxHR",
    "outputId": "c057406d-f0dd-4337-8fc5-8168d0c64801"
   },
   "outputs": [
    {
     "name": "stdout",
     "output_type": "stream",
     "text": [
      "\n",
      "-Top 20 positive-\n",
      "      Word  Coefficient\n",
      "pleasantly     4.262307\n",
      "  downside     3.205504\n",
      " addicting     3.039741\n",
      " skeptical     3.018733\n",
      "    hooked     2.550973\n",
      "    resist     2.545110\n",
      "  drawback     2.450261\n",
      "    delish     2.390716\n",
      "  soothing     2.373994\n",
      "   worries     2.333314\n",
      "  terrific     2.305953\n",
      "   martini     2.215027\n",
      " delighted     2.162467\n",
      "  tastiest     2.135693\n",
      "    brings     2.126648\n",
      "   easiest     2.115667\n",
      "  grateful     2.060645\n",
      "  hesitant     2.052645\n",
      "     penny     2.050781\n",
      "    intend     2.049001\n",
      "\n",
      "-Top 20 negative-\n",
      "          Word  Coefficient\n",
      "       vomited    -2.371718\n",
      "         lousy    -2.438667\n",
      "    unbearable    -2.480845\n",
      "        lacked    -2.485894\n",
      "         blech    -2.493002\n",
      "        bummer    -2.539115\n",
      "disappointment    -2.578567\n",
      "   unappealing    -2.583099\n",
      "   disapointed    -2.601817\n",
      "      mediocre    -2.686227\n",
      "    overpowers    -2.716658\n",
      "        ripoff    -2.755701\n",
      "   embarrassed    -2.902399\n",
      "    returnable    -2.903774\n",
      "     cancelled    -3.006399\n",
      " disappointing    -3.080554\n",
      "  unacceptable    -3.163646\n",
      "         worst    -3.273001\n",
      "   undrinkable    -3.731979\n",
      "     deceptive    -4.037032\n"
     ]
    }
   ],
   "source": [
    "print('')\n",
    "print('-Top 20 positive-')\n",
    "print(coeff_df.head(20).to_string(index=False))\n",
    "print('')\n",
    "print('-Top 20 negative-')        \n",
    "print(coeff_df.tail(20).to_string(index=False))\n",
    "    "
   ]
  },
  {
   "cell_type": "markdown",
   "metadata": {
    "id": "kUxT9ZVv3rlf"
   },
   "source": [
    "# שאלה 3 - זיהוי האם ביקורת היא חיובית אן שלילית לפי 5 מודלים"
   ]
  },
  {
   "cell_type": "markdown",
   "metadata": {
    "id": "C1GiW28l4JKG"
   },
   "source": [
    "## עיבוד נתונים"
   ]
  },
  {
   "cell_type": "markdown",
   "metadata": {
    "id": "39FY3flI9-CK"
   },
   "source": [
    "תחילה בדקנו האם הנתונים מאוזנים, וראינו שיש הרבה יותר 1(ביקורות חיוביות) מ0 (ביקורות שליליות) לכן כדי שהמודל לא יהיה מוטה לכיוון הביקורות החיוביות איזנו אותו בצורה מלאכותי"
   ]
  },
  {
   "cell_type": "markdown",
   "metadata": {
    "id": "rgt8wV35-dKU"
   },
   "source": [
    "לקחונו 100000 מכל סוג ביקורות ואיחדנו לטבלה אחת, לאחר מכן ערבבנו את הטבלה, עברנו על כלל הביקורות וביצענו את הפעולות הבאות:"
   ]
  },
  {
   "cell_type": "markdown",
   "metadata": {
    "id": "LiXVGj8c-sTm"
   },
   "source": [
    "\n",
    "\n",
    "1.   הורדנו את המילות קישור של השפה האנגלית\n",
    "2.   הורדנו סימני פיסוק, מספרים ותגיות מיותרות\n",
    "3.   השתמשנו באלגוריתם טוקנייזר שמוריד סיומות וכו\n",
    "4.   X ו Y חילקנו ל \n",
    "\n"
   ]
  },
  {
   "cell_type": "markdown",
   "metadata": {
    "id": "PS15B04I4Mhv"
   },
   "source": [
    "code:"
   ]
  },
  {
   "cell_type": "code",
   "execution_count": 24,
   "metadata": {
    "id": "oHGZG7K34NwL"
   },
   "outputs": [],
   "source": [
    "org_df = df # save the original df for later use\n",
    "df.loc[(df.Score <= 3)  , \"Score\"] = 0\n",
    "df.loc[(df.Score >= 4)  , \"Score\"] = 1\n",
    "df[\"Score\"] = df[\"Score\"].astype(int)"
   ]
  },
  {
   "cell_type": "code",
   "execution_count": 25,
   "metadata": {
    "colab": {
     "base_uri": "https://localhost:8080/",
     "height": 279
    },
    "id": "4e8L43R74uK5",
    "outputId": "13bcd368-ceb4-446e-d057-df26c2fe354a"
   },
   "outputs": [
    {
     "name": "stdout",
     "output_type": "stream",
     "text": [
      "AxesSubplot(0.125,0.125;0.775x0.755)\n"
     ]
    },
    {
     "data": {
      "image/png": "[encoded data removed]",
      "text/plain": [
       "<Figure size 432x288 with 1 Axes>"
      ]
     },
     "metadata": {
      "needs_background": "light"
     },
     "output_type": "display_data"
    }
   ],
   "source": [
    "# prints wheter a review is positive (1) or negative (0)\n",
    "print(round(df.Score.value_counts()/df.Score.size,2).plot.bar())\n",
    "\n",
    "plt.show()"
   ]
  },
  {
   "cell_type": "code",
   "execution_count": 26,
   "metadata": {
    "colab": {
     "base_uri": "https://localhost:8080/"
    },
    "id": "QIn5TBoz4u2m",
    "outputId": "3dc2dfca-90f9-44db-a320-efbe3aa80805"
   },
   "outputs": [
    {
     "data": {
      "text/plain": [
       "(200000, 12)"
      ]
     },
     "execution_count": 26,
     "metadata": {},
     "output_type": "execute_result"
    }
   ],
   "source": [
    "# balance the data!\n",
    "good = df[df['Score'] == 1]\n",
    "bad =  df[df['Score'] == 0]\n",
    "\n",
    "#Set data size ans suffel \n",
    "datasize = 200000\n",
    "result = pd.concat([bad[:int(datasize/2)],good[:int(datasize/2)]])\n",
    "data = result.sample(frac=1).reset_index(drop=True)\n",
    "data.shape"
   ]
  },
  {
   "cell_type": "code",
   "execution_count": 27,
   "metadata": {
    "id": "OFryfo2W5BKA"
   },
   "outputs": [],
   "source": [
    "# use NLP \n",
    "stop_words = stopwords.words('english')\n",
    "stop_words = stop_words[:100]\n",
    "\n",
    "ps = PorterStemmer()\n",
    "count = 0\n",
    "def Deal_with_sentence(x):\n",
    "    global count \n",
    "    x = re.sub('\\d', ' ', x) #Removes Digits\n",
    "    x = re.sub('<.*?>', ' ', x) #Removes Html tags\n",
    "    x = x.translate(str.maketrans('', '', string.punctuation)) #Removes Punctuations\n",
    "    token_sen = word_tokenize(x)\n",
    "    x = \" \".join([ps.stem(word) for word in token_sen if word.lower() not in stop_words])\n",
    "    count += 1\n",
    "    return x\n",
    "\n",
    "score = data['Score'].copy()\n",
    "Reviews = data[['Text']].copy()['Text']\n",
    "Reviews = Reviews.apply(Deal_with_sentence)\n",
    "\n",
    "\n",
    "# Reviews = pd.read_pickle(\"/content/drive/MyDrive/ML_proj/Reviews.pkl\") \n",
    "# score = pd.read_pickle(\"/content/drive/MyDrive/ML_proj/score.pkl\")"
   ]
  },
  {
   "cell_type": "markdown",
   "metadata": {
    "id": "EaGxXCOu5vJh"
   },
   "source": [
    "יצירת הווקטורים מהטקסט\n",
    "השתמשנו בטוקנייזר ש\"מחלק\" לכל מילה מספר ייחודי ולאחר מכן ייצגנו את המשפטים כווקטורים לפי משפטים אלה.\n",
    "ובסוף ריפדנו באפסים .\n",
    "\n",
    "\n",
    "בהתחלה רצינו להשתמש בספירת מספר הופעות המילה בכל משפט ע\"י ווקטור באורך כל המילים שמופיעות בביקורות ובכל פעם שמילה מופיע להוסיף 1, אבל גילינו שדרך זו לא יעילה מכיוון שזמן החישוב היה ארוך מאוד ובנוסף לא שמרנו על סדר הופעת המילים דבר שפגע מאוד בתוצאות החיזוי"
   ]
  },
  {
   "cell_type": "code",
   "execution_count": 28,
   "metadata": {
    "colab": {
     "base_uri": "https://localhost:8080/"
    },
    "id": "N8WUwcPp52US",
    "outputId": "14a80fb2-54c8-460e-9636-14764f8a4520"
   },
   "outputs": [
    {
     "data": {
      "text/plain": [
       "array([[  171,     6,     2, ...,     0,     0,     0],\n",
       "       [ 2940,   140,   300, ...,     0,     0,     0],\n",
       "       [  125,     4,   664, ...,     0,     0,     0],\n",
       "       ...,\n",
       "       [   12,  4645,   605, ...,     0,     0,     0],\n",
       "       [   14,   102,    29, ...,     0,     0,     0],\n",
       "       [ 1935,  1319, 19276, ...,     0,     0,     0]], dtype=int32)"
      ]
     },
     "execution_count": 28,
     "metadata": {},
     "output_type": "execute_result"
    }
   ],
   "source": [
    "# Make vectors from the reviews and pad with 0's\n",
    "T = Tokenizer()\n",
    "T.fit_on_texts(Reviews)\n",
    "vectors = T.texts_to_sequences(Reviews)\n",
    "\n",
    "longest_r= 0\n",
    "for x in vectors:\n",
    "    longest_r = max(len(x),longest_r)\n",
    "# padding with 0 \n",
    "vectors = pad_sequences(vectors, maxlen=longest_r, padding='post')\n",
    "\n",
    "vectors"
   ]
  },
  {
   "cell_type": "markdown",
   "metadata": {
    "id": "iojD7rnc6BqK"
   },
   "source": [
    "## בניית מודלים"
   ]
  },
  {
   "cell_type": "code",
   "execution_count": 29,
   "metadata": {
    "id": "qhhFvKE1tN6q"
   },
   "outputs": [],
   "source": [
    "x_train, x_test, y_train, y_test = train_test_split(vectors, score, train_size=0.8, random_state=1)"
   ]
  },
  {
   "cell_type": "code",
   "execution_count": 30,
   "metadata": {
    "id": "kZeK5ebb59_h"
   },
   "outputs": [],
   "source": [
    "def get_score(clf_model, x_score):\n",
    "  y_true = np.array(y_test, dtype=np.int)\n",
    "  y_pred = np.squeeze(np.array(clf_model.predict(x_score) >= 0.5, dtype=np.int))\n",
    "  f1 = f1_score(y_true, y_pred)\n",
    "  print(\"F1 score:\", round(f1*100,2) , \"%\")\n",
    "  acc = np.mean(np.array(y_pred == y_true, dtype=np.int))\n",
    "  print(\"Test accuracy score:\", round(acc*100,2) , \"%\")\n",
    "\n",
    "  cm = confusion_matrix(y_true, y_pred)\n",
    "  sns.heatmap(cm,fmt=\".0f\", annot=True)\n",
    "  plt.xlabel(\"Predict\")\n",
    "  plt.ylabel(\"Test\")\n",
    "  plt.title(\"Confusion Matrix\")\n",
    "  plt.show()"
   ]
  },
  {
   "cell_type": "markdown",
   "metadata": {
    "id": "MML_FDLUC8TG"
   },
   "source": [
    "### XGBOOST"
   ]
  },
  {
   "cell_type": "code",
   "execution_count": 32,
   "metadata": {
    "colab": {
     "base_uri": "https://localhost:8080/",
     "height": 329
    },
    "id": "0wx2Y1yh59xM",
    "outputId": "312f797d-4ffc-4c27-d4c2-558b358d65fa"
   },
   "outputs": [
    {
     "name": "stdout",
     "output_type": "stream",
     "text": [
      "F1 score: 60.25 %\n",
      "Test accuracy score: 61.36 %\n"
     ]
    },
    {
     "data": {
      "image/png": "[encoded data removed]",
      "text/plain": [
       "<Figure size 432x288 with 2 Axes>"
      ]
     },
     "metadata": {
      "needs_background": "light"
     },
     "output_type": "display_data"
    }
   ],
   "source": [
    "XG_clf = XGBClassifier(n_estimators= 100, n_jobs=-1, learning_rate=0.2, seed=0, eval_metric = 'mlogloss')\n",
    "XG_clf.fit(x_train, y_train)\n",
    "XG_clf.score(x_test, y_test)\n",
    "\n",
    "# XG_clf = pickle.load(open(\"/content/drive/MyDrive/ML_proj/xgb.pkl\", \"rb\"))\n",
    "\n",
    "get_score(XG_clf, x_test)"
   ]
  },
  {
   "cell_type": "markdown",
   "metadata": {
    "id": "CImUa3aSFSca"
   },
   "source": [
    "### ADABOOST"
   ]
  },
  {
   "cell_type": "code",
   "execution_count": 34,
   "metadata": {
    "colab": {
     "base_uri": "https://localhost:8080/",
     "height": 329
    },
    "id": "6tDyp2AuDeBN",
    "outputId": "c821dee2-bea7-497a-ecc2-f141f9223120"
   },
   "outputs": [
    {
     "name": "stdout",
     "output_type": "stream",
     "text": [
      "F1 score: 58.12 %\n",
      "Test accuracy score: 58.48 %\n"
     ]
    },
    {
     "data": {
      "image/png": "[encoded data removed]",
      "text/plain": [
       "<Figure size 432x288 with 2 Axes>"
      ]
     },
     "metadata": {
      "needs_background": "light"
     },
     "output_type": "display_data"
    }
   ],
   "source": [
    "Ada = AdaBoostClassifier(n_estimators=50,algorithm=\"SAMME.R\",learning_rate=0.37)\n",
    "Ada.fit(x_train, y_train)\n",
    "\n",
    "#pickle.dump(Ada, open(\"/content/drive/MyDrive/ML_proj/Ada.pkl\", \"wb\"))\n",
    "# Ada = pickle.load(open(\"/content/drive/MyDrive/ML_proj/Ada.pkl\", \"rb\"))\n",
    "\n",
    "get_score(Ada, x_test)"
   ]
  },
  {
   "cell_type": "markdown",
   "metadata": {
    "id": "08TmXvv2R0Zb"
   },
   "source": [
    "### LogisticRegression\n"
   ]
  },
  {
   "cell_type": "code",
   "execution_count": 35,
   "metadata": {
    "colab": {
     "base_uri": "https://localhost:8080/",
     "height": 329
    },
    "id": "ny_2yKTcGp9j",
    "outputId": "379a8545-d2c7-45cc-d1f7-d30ab515c9c7"
   },
   "outputs": [
    {
     "name": "stdout",
     "output_type": "stream",
     "text": [
      "F1 score: 59.98 %\n",
      "Test accuracy score: 54.46 %\n"
     ]
    },
    {
     "data": {
      "image/png": "[encoded data removed]",
      "text/plain": [
       "<Figure size 432x288 with 2 Axes>"
      ]
     },
     "metadata": {
      "needs_background": "light"
     },
     "output_type": "display_data"
    }
   ],
   "source": [
    "LR = LogisticRegression().fit(x_train, y_train)\n",
    "\n",
    "# pickle.dump(LR, open(\"/content/drive/MyDrive/ML_proj/LR.pkl\", \"wb\"))\n",
    "# LR = pickle.load(open(\"/content/drive/MyDrive/ML_proj/LR.pkl\", \"rb\"))\n",
    "\n",
    "get_score(LR, x_test)\n"
   ]
  },
  {
   "cell_type": "markdown",
   "metadata": {
    "id": "H2iCKDJIScV4"
   },
   "source": [
    "### Deep learning (RNN)"
   ]
  },
  {
   "cell_type": "code",
   "execution_count": 37,
   "metadata": {
    "colab": {
     "base_uri": "https://localhost:8080/",
     "height": 823
    },
    "id": "rO5C6yzhIlXd",
    "outputId": "20b888a9-bd80-4c52-8546-1720c618efde"
   },
   "outputs": [
    {
     "name": "stdout",
     "output_type": "stream",
     "text": [
      "Model: \"model_1\"\n",
      "_________________________________________________________________\n",
      " Layer (type)                Output Shape              Param #   \n",
      "=================================================================\n",
      " input_2 (InputLayer)        [(None, 2119)]            0         \n",
      "                                                                 \n",
      " embedding_1 (Embedding)     (None, 2119, 60)          5428080   \n",
      "                                                                 \n",
      " bidirectional_1 (Bidirectio  (None, 2119, 480)        434880    \n",
      " nal)                                                            \n",
      "                                                                 \n",
      " flatten_1 (Flatten)         (None, 1017120)           0         \n",
      "                                                                 \n",
      " dense_1 (Dense)             (None, 1)                 1017121   \n",
      "                                                                 \n",
      "=================================================================\n",
      "Total params: 6,880,081\n",
      "Trainable params: 6,880,081\n",
      "Non-trainable params: 0\n",
      "_________________________________________________________________\n",
      "None\n"
     ]
    },
    {
     "data": {
      "image/png": "[encoded data removed]",
      "text/plain": [
       "<IPython.core.display.Image object>"
      ]
     },
     "execution_count": 37,
     "metadata": {},
     "output_type": "execute_result"
    }
   ],
   "source": [
    "inputs = tf.keras.Input(shape=(longest_r,))\n",
    "\n",
    "embedding = Embedding(\n",
    "    input_dim=len(T.word_index) + 1,     #  Integer. Size of the vocabulary, maximum integer index + 1.\n",
    "    input_length=longest_r, #Length of input sequences, when it is constant. This argument is required if you are going to connect Flatten\n",
    "    output_dim=60                        # Integer. Dimension of the dense embedding.\n",
    ")(inputs)\n",
    "\n",
    "Bgru = Bidirectional(\n",
    "    GRU(240, return_sequences=True) # return to output each word that go to the GRU\n",
    ")(embedding)\n",
    "\n",
    "flat = Flatten()(Bgru) # flat the matrix (3D to 2D)\n",
    "\n",
    "outputs = Dense(1, activation='sigmoid')(flat) # Dense with sigmoid to 1 output\n",
    "\n",
    "\n",
    "model = tf.keras.Model(inputs, outputs) # init the model\n",
    "\n",
    "\n",
    "print(model.summary())\n",
    "tf.keras.utils.plot_model(model)"
   ]
  },
  {
   "cell_type": "code",
   "execution_count": 38,
   "metadata": {
    "colab": {
     "base_uri": "https://localhost:8080/"
    },
    "id": "Lhu_WqBFR17y",
    "outputId": "f97efe48-ddb7-4058-c486-a2413d52b157"
   },
   "outputs": [
    {
     "name": "stdout",
     "output_type": "stream",
     "text": [
      "Epoch 1/10\n",
      "2000/2000 [==============================] - 642s 319ms/step - loss: 0.3693 - accuracy: 0.8425 - val_loss: 0.3217 - val_accuracy: 0.8692\n",
      "Epoch 2/10\n",
      "2000/2000 [==============================] - 636s 318ms/step - loss: 0.2239 - accuracy: 0.9144 - val_loss: 0.2927 - val_accuracy: 0.8867\n",
      "Epoch 3/10\n",
      "2000/2000 [==============================] - 637s 318ms/step - loss: 0.1225 - accuracy: 0.9552 - val_loss: 0.3570 - val_accuracy: 0.8835\n",
      "Epoch 4/10\n",
      "2000/2000 [==============================] - 636s 318ms/step - loss: 0.0656 - accuracy: 0.9772 - val_loss: 0.4740 - val_accuracy: 0.8813\n"
     ]
    },
    {
     "name": "stderr",
     "output_type": "stream",
     "text": [
      "WARNING:absl:Found untraced functions such as gru_cell_4_layer_call_fn, gru_cell_4_layer_call_and_return_conditional_losses, gru_cell_5_layer_call_fn, gru_cell_5_layer_call_and_return_conditional_losses while saving (showing 4 of 4). These functions will not be directly callable after loading.\n"
     ]
    },
    {
     "name": "stdout",
     "output_type": "stream",
     "text": [
      "INFO:tensorflow:Assets written to: /content/drive/MyDrive/ML_proj/gru/assets\n"
     ]
    },
    {
     "name": "stderr",
     "output_type": "stream",
     "text": [
      "INFO:tensorflow:Assets written to: /content/drive/MyDrive/ML_proj/gru/assets\n",
      "WARNING:absl:<keras.layers.recurrent.GRUCell object at 0x7ff3c58ed810> has the same name 'GRUCell' as a built-in Keras object. Consider renaming <class 'keras.layers.recurrent.GRUCell'> to avoid naming conflicts when loading with `tf.keras.models.load_model`. If renaming is not possible, pass the object in the `custom_objects` parameter of the load function.\n",
      "WARNING:absl:<keras.layers.recurrent.GRUCell object at 0x7ff3c5ce0c90> has the same name 'GRUCell' as a built-in Keras object. Consider renaming <class 'keras.layers.recurrent.GRUCell'> to avoid naming conflicts when loading with `tf.keras.models.load_model`. If renaming is not possible, pass the object in the `custom_objects` parameter of the load function.\n",
      "WARNING:absl:Found untraced functions such as gru_cell_4_layer_call_fn, gru_cell_4_layer_call_and_return_conditional_losses, gru_cell_5_layer_call_fn, gru_cell_5_layer_call_and_return_conditional_losses while saving (showing 4 of 4). These functions will not be directly callable after loading.\n"
     ]
    },
    {
     "name": "stdout",
     "output_type": "stream",
     "text": [
      "INFO:tensorflow:Assets written to: ram://ca554cab-b239-4746-a54b-55593e77fcd2/assets\n"
     ]
    },
    {
     "name": "stderr",
     "output_type": "stream",
     "text": [
      "INFO:tensorflow:Assets written to: ram://ca554cab-b239-4746-a54b-55593e77fcd2/assets\n",
      "WARNING:absl:<keras.layers.recurrent.GRUCell object at 0x7ff3c58ed810> has the same name 'GRUCell' as a built-in Keras object. Consider renaming <class 'keras.layers.recurrent.GRUCell'> to avoid naming conflicts when loading with `tf.keras.models.load_model`. If renaming is not possible, pass the object in the `custom_objects` parameter of the load function.\n",
      "WARNING:absl:<keras.layers.recurrent.GRUCell object at 0x7ff3c5ce0c90> has the same name 'GRUCell' as a built-in Keras object. Consider renaming <class 'keras.layers.recurrent.GRUCell'> to avoid naming conflicts when loading with `tf.keras.models.load_model`. If renaming is not possible, pass the object in the `custom_objects` parameter of the load function.\n"
     ]
    }
   ],
   "source": [
    "# compilt the model with adam optimizer and binary_crossentropy loss.\n",
    "model.compile(optimizer='adam',loss='binary_crossentropy',metrics=['accuracy'])\n",
    "# fit the model and save as history for ploting\n",
    "history = model.fit(\n",
    "    x_train,\n",
    "    y_train,\n",
    "    validation_split=0.2,\n",
    "    batch_size=64,\n",
    "    epochs=10,\n",
    "    # set EarlyStopping to prevent overfitting and spending time. \n",
    "    # if the val_accuracy don't improved for 2 epochs stop, and return to best weight!\n",
    "    callbacks=[\n",
    "        tf.keras.callbacks.EarlyStopping(\n",
    "            monitor='val_accuracy',\n",
    "            patience=2,\n",
    "            restore_best_weights=True\n",
    "        )\n",
    "    ]\n",
    ")\n",
    "\n",
    "model.save('/content/drive/MyDrive/ML_proj/gru')\n",
    "pickle.dump(history, open(\"/content/drive/MyDrive/ML_proj/history.pkl\", \"wb\"))\n",
    "# model = tf.keras.models.load_model('/content/drive/MyDrive/ML_proj/gru')"
   ]
  },
  {
   "cell_type": "code",
   "execution_count": 39,
   "metadata": {
    "colab": {
     "base_uri": "https://localhost:8080/",
     "height": 329
    },
    "id": "9Ias1O6XSqOy",
    "outputId": "6951985c-98eb-4c9a-b63e-9f2c83126313"
   },
   "outputs": [
    {
     "name": "stdout",
     "output_type": "stream",
     "text": [
      "F1 score: 88.98 %\n",
      "Test accuracy score: 88.98 %\n"
     ]
    },
    {
     "data": {
      "image/png": "[encoded data removed]",
      "text/plain": [
       "<Figure size 432x288 with 2 Axes>"
      ]
     },
     "metadata": {
      "needs_background": "light"
     },
     "output_type": "display_data"
    }
   ],
   "source": [
    "get_score(model, x_test)"
   ]
  },
  {
   "cell_type": "markdown",
   "metadata": {
    "id": "BMkaLDIIVAuj"
   },
   "source": [
    "אפפשר לראות ש\"האיפוק\" השני הוא הטוב ביותר מבחינת הוולידציה לכן לאחר 2 ריצות שהמודל ראה שאין שיפור חזרנו לאיפוק השני"
   ]
  },
  {
   "cell_type": "code",
   "execution_count": 40,
   "metadata": {
    "id": "9940XQFsUOBT"
   },
   "outputs": [],
   "source": [
    "accuracy = history.history['accuracy']\n",
    "val_accuracy = history.history['val_accuracy']\n",
    "loss = history.history['loss']\n",
    "val_loss = history.history['val_loss']"
   ]
  },
  {
   "cell_type": "code",
   "execution_count": 41,
   "metadata": {
    "colab": {
     "base_uri": "https://localhost:8080/",
     "height": 603
    },
    "id": "umpbaYDkUN9M",
    "outputId": "3e9ba3a1-eb0d-4806-88cd-84cb2cb5e0af"
   },
   "outputs": [
    {
     "data": {
      "image/png": "[encoded data removed]",
      "text/plain": [
       "<Figure size 432x288 with 1 Axes>"
      ]
     },
     "metadata": {
      "needs_background": "light"
     },
     "output_type": "display_data"
    },
    {
     "data": {
      "image/png": "[encoded data removed]",
      "text/plain": [
       "<Figure size 432x288 with 1 Axes>"
      ]
     },
     "metadata": {
      "needs_background": "light"
     },
     "output_type": "display_data"
    }
   ],
   "source": [
    "plt.plot(accuracy, label=\"accuracy train\")\n",
    "plt.plot(val_accuracy, label=\"val accuracy\")\n",
    "plt.title(\"GRU with embadding accuracy \\n epoch = 50 (with erly stop) || minibatch = 640\")\n",
    "plt.ylabel(\"prectenge\")\n",
    "plt.xlabel(\"epoch\")\n",
    "plt.legend()\n",
    "plt.show()\n",
    "\n",
    "\n",
    "\n",
    "plt.plot(loss, label = \"loss train\")\n",
    "plt.plot(val_loss, label = \"val loss\")\n",
    "plt.title(\"GRU with embadding accuracy \\n epoch = 50 (with erly stop) || minibatch = 640\")\n",
    "plt.ylabel(\"cost\")\n",
    "plt.xlabel(\"epoch\")\n",
    "plt.legend()\n",
    "plt.show()"
   ]
  },
  {
   "cell_type": "markdown",
   "metadata": {
    "id": "mdqRPvpQ6FBc"
   },
   "source": [
    " ### NLTK ניתוח סנטימנטים בעזרת מודל מוכל מספריית "
   ]
  },
  {
   "cell_type": "markdown",
   "metadata": {
    "id": "M5D73Y6aM2Hm"
   },
   "source": [
    "בנוסף למודלים שהשתמשנו עד כה רצינו לבדוק האם יש קשר בין סנטימטי הביקורת לציון שניתן ע\"י אותו המבקר, \n",
    " לצורך זה השתמשנו במודל לניתוח סנטימנטים ובדקנו האם יש קשר ומה הציון שנקבל.\n",
    "\n",
    " כמצופה ראינו שיש הקשר ישיר, סיווגנו ביקורות עם סנטימנט שלילי לביקורות שליליות ולהפך, לאחר מכן השתמשנו במדדים לבדיקת הציון וראינו שנקבל ב\"אפ-1\" ציון של 89% ובציו דיוק קיבלנו 82%."
   ]
  },
  {
   "cell_type": "code",
   "execution_count": 42,
   "metadata": {
    "colab": {
     "base_uri": "https://localhost:8080/"
    },
    "id": "5yTzryuPUN4L",
    "outputId": "fdaf5fba-adcb-4f23-d81a-d149545ab933"
   },
   "outputs": [
    {
     "name": "stderr",
     "output_type": "stream",
     "text": [
      "[nltk_data] Downloading package vader_lexicon to /root/nltk_data...\n"
     ]
    },
    {
     "data": {
      "text/plain": [
       "True"
      ]
     },
     "execution_count": 42,
     "metadata": {},
     "output_type": "execute_result"
    }
   ],
   "source": [
    "from nltk.sentiment import SentimentIntensityAnalyzer\n",
    "nltk.download('vader_lexicon')"
   ]
  },
  {
   "cell_type": "code",
   "execution_count": 43,
   "metadata": {
    "id": "BZx_yCal4x7G"
   },
   "outputs": [],
   "source": [
    "sia = SentimentIntensityAnalyzer()"
   ]
  },
  {
   "cell_type": "code",
   "execution_count": 44,
   "metadata": {
    "id": "BM3CGcka4xyx"
   },
   "outputs": [],
   "source": [
    "neg_pos = []\n",
    "for i in df[\"Text\"]:\n",
    "  sia_res = sia.polarity_scores(i)\n",
    "  if sia_res['neg'] > sia_res['pos']:\n",
    "    neg_pos.append(0)\n",
    "  else:\n",
    "    neg_pos.append(1)\n"
   ]
  },
  {
   "cell_type": "code",
   "execution_count": 45,
   "metadata": {
    "colab": {
     "base_uri": "https://localhost:8080/"
    },
    "id": "HzPeBSBO4xna",
    "outputId": "afb5a7d7-188c-410a-e8cc-cf8ab96f39c3"
   },
   "outputs": [
    {
     "name": "stdout",
     "output_type": "stream",
     "text": [
      "F1 score: 89.07 %\n",
      "Test accuracy score: 81.72 %\n"
     ]
    }
   ],
   "source": [
    "y_true = np.array(df[\"Score\"], dtype=np.int)\n",
    "y_pred = np.squeeze(np.array(neg_pos, dtype=np.int))\n",
    "f1 = f1_score(y_true, y_pred)\n",
    "print(\"F1 score:\", round(f1*100,2) , \"%\")\n",
    "acc = np.mean(np.array(y_pred == y_true, dtype=np.int))\n",
    "print(\"Test accuracy score:\", round(acc*100,2) , \"%\")"
   ]
  },
  {
   "cell_type": "markdown",
   "metadata": {
    "id": "Fsp0kvKmUOxj"
   },
   "source": [
    "# שאלה 4 - האם ביקורת מעלה התעניינות בקרב משתמשים אחרים"
   ]
  },
  {
   "cell_type": "markdown",
   "metadata": {
    "id": "HINobpPnUkAb"
   },
   "source": [
    "בשאלה זו נשתמש בביקורות לסיווג משתנה מוסבר אחר"
   ]
  },
  {
   "cell_type": "markdown",
   "metadata": {
    "id": "euhVGGo7VqUv"
   },
   "source": [
    " HelpfulnessDenominator ההגדרה שלנו לביקורת מעניינת היא ביקורת שקיבלה יותר מ-2"
   ]
  },
  {
   "cell_type": "markdown",
   "metadata": {
    "id": "xZ_ec9SJBZdv"
   },
   "source": [
    "## עיבוד נתונים"
   ]
  },
  {
   "cell_type": "code",
   "execution_count": 46,
   "metadata": {
    "id": "6Paj90JCUNza"
   },
   "outputs": [],
   "source": [
    "data1 = org_df\n",
    "data1.loc[(org_df.HelpfulnessDenominator <= 2)  , \"helpfull\"] = 0\n",
    "data1.loc[(org_df.HelpfulnessDenominator >= 3)  , \"helpfull\"] = 1\n",
    "data1[\"helpfull\"] = org_df[\"helpfull\"].astype(int)\n",
    "\n"
   ]
  },
  {
   "cell_type": "code",
   "execution_count": 47,
   "metadata": {
    "colab": {
     "base_uri": "https://localhost:8080/",
     "height": 279
    },
    "id": "j-DEC5l9UNvL",
    "outputId": "2939425a-a189-4992-ddc3-32d4d61b8d66"
   },
   "outputs": [
    {
     "data": {
      "text/plain": [
       "<matplotlib.axes._subplots.AxesSubplot at 0x7ff3cd430bd0>"
      ]
     },
     "execution_count": 47,
     "metadata": {},
     "output_type": "execute_result"
    },
    {
     "data": {
      "image/png": "[encoded data removed]",
      "text/plain": [
       "<Figure size 432x288 with 1 Axes>"
      ]
     },
     "metadata": {
      "needs_background": "light"
     },
     "output_type": "display_data"
    }
   ],
   "source": [
    "data1[\"helpfull\"].value_counts().plot.bar()"
   ]
  },
  {
   "cell_type": "code",
   "execution_count": 48,
   "metadata": {
    "colab": {
     "base_uri": "https://localhost:8080/"
    },
    "id": "zMEaEVc_YOau",
    "outputId": "69ad16d9-4064-4154-f5cc-56b6a4827bb1"
   },
   "outputs": [
    {
     "data": {
      "text/plain": [
       "(200000, 13)"
      ]
     },
     "execution_count": 48,
     "metadata": {},
     "output_type": "execute_result"
    }
   ],
   "source": [
    "# balance the data!\n",
    "good = data1[data1['helpfull'] == 1]\n",
    "bad =  data1[data1['helpfull'] == 0]\n",
    "\n",
    "#Set data size ans suffel \n",
    "datasize = 200000\n",
    "result = pd.concat([bad[:int(datasize/2)],good[:int(datasize/2)]])\n",
    "data1 = result.sample(frac=1).reset_index(drop=True)\n",
    "data1.shape"
   ]
  },
  {
   "cell_type": "code",
   "execution_count": 49,
   "metadata": {
    "id": "NroM999XYaSG"
   },
   "outputs": [],
   "source": [
    "# use NLP \n",
    "stop_words = stopwords.words('english')\n",
    "stop_words = stop_words[:100]\n",
    "\n",
    "ps = PorterStemmer()\n",
    "count = 0\n",
    "def Deal_with_sentence(x):\n",
    "    global count \n",
    "    x = re.sub('\\d', ' ', x) #Removes Digits\n",
    "    x = re.sub('<.*?>', ' ', x) #Removes Html tags\n",
    "    x = x.translate(str.maketrans('', '', string.punctuation)) #Removes Punctuations\n",
    "    token_sen = word_tokenize(x)\n",
    "    x = \" \".join([ps.stem(word) for word in token_sen if word.lower() not in stop_words])\n",
    "    count += 1\n",
    "    if count % 10000 == 0:\n",
    "        print(count)\n",
    "    return x\n",
    "\n",
    "# score = data1['helpfull'].copy()\n",
    "# Reviews = data1[['Text']].copy()['Text']\n",
    "# Reviews = Reviews.apply(Deal_with_sentence)"
   ]
  },
  {
   "cell_type": "code",
   "execution_count": 50,
   "metadata": {
    "id": "grFLXhHkZ6Ib"
   },
   "outputs": [],
   "source": [
    "# score.to_pickle(\"/content/drive/MyDrive/ML_proj/helpfull.pkl\")\n",
    "# Reviews.to_pickle(\"/content/drive/MyDrive/ML_proj/Reviews_h.pkl\")\n",
    "Reviews = pd.read_pickle(\"/content/drive/MyDrive/ML_proj/Reviews_h.pkl\") \n",
    "score = pd.read_pickle(\"/content/drive/MyDrive/ML_proj/helpfull.pkl\")"
   ]
  },
  {
   "cell_type": "code",
   "execution_count": 51,
   "metadata": {
    "colab": {
     "base_uri": "https://localhost:8080/"
    },
    "id": "VFsPrwiSYg34",
    "outputId": "cfc6cd3c-0f5e-4971-80f1-916785ae4bb4"
   },
   "outputs": [
    {
     "data": {
      "text/plain": [
       "array([[  88,  206,  227, ...,    0,    0,    0],\n",
       "       [  39,   10,    7, ...,    0,    0,    0],\n",
       "       [ 130,    3,   55, ...,    0,    0,    0],\n",
       "       ...,\n",
       "       [  29,  120, 1710, ...,    0,    0,    0],\n",
       "       [ 333,  969,   63, ...,    0,    0,    0],\n",
       "       [   9,   34, 6013, ...,    0,    0,    0]], dtype=int32)"
      ]
     },
     "execution_count": 51,
     "metadata": {},
     "output_type": "execute_result"
    }
   ],
   "source": [
    "# Make vectors from the reviews and pad with 0's\n",
    "T = Tokenizer()\n",
    "T.fit_on_texts(Reviews)\n",
    "vectors = T.texts_to_sequences(Reviews)\n",
    "\n",
    "longest_r= 0\n",
    "for x in vectors:\n",
    "    longest_r = max(len(x),longest_r)\n",
    "# padding with 0 \n",
    "vectors = pad_sequences(vectors, maxlen=longest_r, padding='post')\n",
    "\n",
    "vectors"
   ]
  },
  {
   "cell_type": "code",
   "execution_count": 52,
   "metadata": {
    "id": "lz0nJcfIUNkk"
   },
   "outputs": [],
   "source": [
    "x_train, x_test, y_train, y_test = train_test_split(vectors, score, train_size=0.8, random_state=1)"
   ]
  },
  {
   "cell_type": "markdown",
   "metadata": {
    "id": "hN_xxMb3By2Y"
   },
   "source": [
    "## בניית מודלים"
   ]
  },
  {
   "cell_type": "markdown",
   "metadata": {
    "id": "6-QbgWBzB2fP"
   },
   "source": [
    "### XGBOOST"
   ]
  },
  {
   "cell_type": "code",
   "execution_count": 53,
   "metadata": {
    "colab": {
     "base_uri": "https://localhost:8080/",
     "height": 329
    },
    "id": "B9g8VqjbR6Zg",
    "outputId": "eaf7478f-638f-4884-d994-518491fd32c1"
   },
   "outputs": [
    {
     "name": "stdout",
     "output_type": "stream",
     "text": [
      "F1 score: 57.63 %\n",
      "Test accuracy score: 59.47 %\n"
     ]
    },
    {
     "data": {
      "image/png": "[encoded data removed]",
      "text/plain": [
       "<Figure size 432x288 with 2 Axes>"
      ]
     },
     "metadata": {
      "needs_background": "light"
     },
     "output_type": "display_data"
    }
   ],
   "source": [
    "# XG_clf_h = XGBClassifier(n_estimators= 100, n_jobs=-1, learning_rate=0.2, seed=0)\n",
    "# XG_clf_h.fit(x_train, y_train)\n",
    "# XG_clf_h.score(x_test, y_test)\n",
    "# pickle.dump(XG_clf_h, open(\"/content/drive/MyDrive/ML_proj/XG_h.pkl\", \"wb\"))\n",
    "XG_clf_h = pickle.load(open(\"/content/drive/MyDrive/ML_proj/XG_h.pkl\", \"rb\"))\n",
    "get_score(XG_clf_h, x_test)\n"
   ]
  },
  {
   "cell_type": "markdown",
   "metadata": {
    "id": "lmx594tPB7Nt"
   },
   "source": [
    "### ADABOOST"
   ]
  },
  {
   "cell_type": "code",
   "execution_count": 60,
   "metadata": {
    "colab": {
     "base_uri": "https://localhost:8080/",
     "height": 329
    },
    "id": "EJlG-QXaSPjh",
    "outputId": "994e1629-907a-4e19-82ab-7231f12ac633"
   },
   "outputs": [
    {
     "name": "stdout",
     "output_type": "stream",
     "text": [
      "F1 score: 55.98 %\n",
      "Test accuracy score: 58.29 %\n"
     ]
    },
    {
     "data": {
      "image/png": "[encoded data removed]",
      "text/plain": [
       "<Figure size 432x288 with 2 Axes>"
      ]
     },
     "metadata": {
      "needs_background": "light"
     },
     "output_type": "display_data"
    }
   ],
   "source": [
    "Ada = AdaBoostClassifier(n_estimators=50,algorithm=\"SAMME.R\",learning_rate=0.37)\n",
    "Ada.fit(x_train, y_train)\n",
    "\n",
    "pickle.dump(Ada, open(\"/content/drive/MyDrive/ML_proj/Ada_h.pkl\", \"wb\"))\n",
    "# Ada = pickle.load(open(\"/content/drive/MyDrive/ML_proj/Ada_h.pkl\", \"rb\"))\n",
    "\n",
    "get_score(Ada, x_test)"
   ]
  },
  {
   "cell_type": "markdown",
   "metadata": {
    "id": "D6vEHcLpCAf1"
   },
   "source": [
    "### LogisticRegression"
   ]
  },
  {
   "cell_type": "code",
   "execution_count": 54,
   "metadata": {
    "colab": {
     "base_uri": "https://localhost:8080/",
     "height": 329
    },
    "id": "rB3deMCdSnIM",
    "outputId": "6a0c1dc8-78b7-488e-b82f-f15fc536e089"
   },
   "outputs": [
    {
     "name": "stdout",
     "output_type": "stream",
     "text": [
      "F1 score: 56.54 %\n",
      "Test accuracy score: 57.04 %\n"
     ]
    },
    {
     "data": {
      "image/png": "[encoded data removed]",
      "text/plain": [
       "<Figure size 432x288 with 2 Axes>"
      ]
     },
     "metadata": {
      "needs_background": "light"
     },
     "output_type": "display_data"
    }
   ],
   "source": [
    "import pickle\n",
    "# LR_h = LogisticRegression().fit(x_train, y_train)\n",
    "LR_h = pickle.load(open(\"/content/drive/MyDrive/ML_proj/LR_h.pkl\", \"rb\"))\n",
    "get_score(LR_h, x_test)\n",
    "# pickle.dump(LR_h, open(\"/content/drive/MyDrive/ML_proj/LR_h.pkl\", \"wb\"))"
   ]
  },
  {
   "cell_type": "markdown",
   "metadata": {
    "id": "W5rtL-vICRuC"
   },
   "source": [
    "### Deep learning (RNN)"
   ]
  },
  {
   "cell_type": "code",
   "execution_count": 57,
   "metadata": {
    "colab": {
     "base_uri": "https://localhost:8080/"
    },
    "id": "77bo-_ZGSzNR",
    "outputId": "01d0442c-9050-4cec-b161-bb1c9509d131"
   },
   "outputs": [
    {
     "name": "stdout",
     "output_type": "stream",
     "text": [
      "Epoch 1/10\n",
      "2000/2000 [==============================] - 640s 319ms/step - loss: 0.2782 - accuracy: 0.8836 - val_loss: 0.7821 - val_accuracy: 0.6937\n",
      "Epoch 2/10\n",
      "2000/2000 [==============================] - 637s 319ms/step - loss: 0.1692 - accuracy: 0.9364 - val_loss: 0.9646 - val_accuracy: 0.6949\n",
      "Epoch 3/10\n",
      "2000/2000 [==============================] - 637s 318ms/step - loss: 0.1278 - accuracy: 0.9595 - val_loss: 1.1124 - val_accuracy: 0.6938\n",
      "Epoch 4/10\n",
      "2000/2000 [==============================] - 637s 318ms/step - loss: 0.1013 - accuracy: 0.9723 - val_loss: 1.2993 - val_accuracy: 0.6882\n"
     ]
    }
   ],
   "source": [
    "# compilt the model with adam optimizer and binary_crossentropy loss.\n",
    "model.compile(optimizer='adam',loss='binary_crossentropy',metrics=['accuracy'])\n",
    "# fit the model and save as history for ploting\n",
    "history = model.fit(\n",
    "    x_train,\n",
    "    y_train,\n",
    "    validation_split=0.2,\n",
    "    batch_size=64,\n",
    "    epochs=10,\n",
    "    # set EarlyStopping to prevent overfitting and spending time. \n",
    "    # if the val_accuracy don't improved for 2 epochs stop, and return to best weight!\n",
    "    callbacks=[\n",
    "        tf.keras.callbacks.EarlyStopping(\n",
    "            monitor='val_accuracy',\n",
    "            patience=2,\n",
    "            restore_best_weights=True\n",
    "        )\n",
    "    ]\n",
    ")\n",
    "\n",
    "# model.save('/content/drive/MyDrive/ML_proj/gru_h')\n",
    "# model = tf.keras.models.load_model('/content/drive/MyDrive/ML_proj/gru_h')"
   ]
  },
  {
   "cell_type": "code",
   "execution_count": 58,
   "metadata": {
    "colab": {
     "base_uri": "https://localhost:8080/"
    },
    "id": "ZT8JRmZ3YgRr",
    "outputId": "2dbb56ba-a463-40d0-ef96-314d95f46660"
   },
   "outputs": [
    {
     "name": "stderr",
     "output_type": "stream",
     "text": [
      "WARNING:absl:Found untraced functions such as gru_cell_7_layer_call_fn, gru_cell_7_layer_call_and_return_conditional_losses, gru_cell_8_layer_call_fn, gru_cell_8_layer_call_and_return_conditional_losses while saving (showing 4 of 4). These functions will not be directly callable after loading.\n"
     ]
    },
    {
     "name": "stdout",
     "output_type": "stream",
     "text": [
      "INFO:tensorflow:Assets written to: /content/drive/MyDrive/ML_proj/gru_h/assets\n"
     ]
    },
    {
     "name": "stderr",
     "output_type": "stream",
     "text": [
      "INFO:tensorflow:Assets written to: /content/drive/MyDrive/ML_proj/gru_h/assets\n",
      "WARNING:absl:<keras.layers.recurrent.GRUCell object at 0x7ff3c8d70cd0> has the same name 'GRUCell' as a built-in Keras object. Consider renaming <class 'keras.layers.recurrent.GRUCell'> to avoid naming conflicts when loading with `tf.keras.models.load_model`. If renaming is not possible, pass the object in the `custom_objects` parameter of the load function.\n",
      "WARNING:absl:<keras.layers.recurrent.GRUCell object at 0x7ff4629f6c50> has the same name 'GRUCell' as a built-in Keras object. Consider renaming <class 'keras.layers.recurrent.GRUCell'> to avoid naming conflicts when loading with `tf.keras.models.load_model`. If renaming is not possible, pass the object in the `custom_objects` parameter of the load function.\n",
      "WARNING:absl:Found untraced functions such as gru_cell_7_layer_call_fn, gru_cell_7_layer_call_and_return_conditional_losses, gru_cell_8_layer_call_fn, gru_cell_8_layer_call_and_return_conditional_losses while saving (showing 4 of 4). These functions will not be directly callable after loading.\n"
     ]
    },
    {
     "name": "stdout",
     "output_type": "stream",
     "text": [
      "INFO:tensorflow:Assets written to: ram://02a97101-c988-4c34-9644-236cc0d8eb28/assets\n"
     ]
    },
    {
     "name": "stderr",
     "output_type": "stream",
     "text": [
      "INFO:tensorflow:Assets written to: ram://02a97101-c988-4c34-9644-236cc0d8eb28/assets\n",
      "WARNING:absl:<keras.layers.recurrent.GRUCell object at 0x7ff3c8d70cd0> has the same name 'GRUCell' as a built-in Keras object. Consider renaming <class 'keras.layers.recurrent.GRUCell'> to avoid naming conflicts when loading with `tf.keras.models.load_model`. If renaming is not possible, pass the object in the `custom_objects` parameter of the load function.\n",
      "WARNING:absl:<keras.layers.recurrent.GRUCell object at 0x7ff4629f6c50> has the same name 'GRUCell' as a built-in Keras object. Consider renaming <class 'keras.layers.recurrent.GRUCell'> to avoid naming conflicts when loading with `tf.keras.models.load_model`. If renaming is not possible, pass the object in the `custom_objects` parameter of the load function.\n"
     ]
    }
   ],
   "source": [
    "model.save('/content/drive/MyDrive/ML_proj/gru_h')\n",
    "pickle.dump(history, open(\"/content/drive/MyDrive/ML_proj/history_h.pkl\", \"wb\"))"
   ]
  },
  {
   "cell_type": "code",
   "execution_count": 59,
   "metadata": {
    "colab": {
     "base_uri": "https://localhost:8080/",
     "height": 329
    },
    "id": "xRGIfr8oe0yo",
    "outputId": "dd1b0501-2249-489c-94f9-22b93c051b02"
   },
   "outputs": [
    {
     "name": "stdout",
     "output_type": "stream",
     "text": [
      "F1 score: 69.09 %\n",
      "Test accuracy score: 69.23 %\n"
     ]
    },
    {
     "data": {
      "image/png": "[encoded data removed]",
      "text/plain": [
       "<Figure size 432x288 with 2 Axes>"
      ]
     },
     "metadata": {
      "needs_background": "light"
     },
     "output_type": "display_data"
    }
   ],
   "source": [
    "get_score(model, x_test)"
   ]
  },
  {
   "cell_type": "code",
   "execution_count": 61,
   "metadata": {
    "id": "uhlM9dOPxrTA"
   },
   "outputs": [],
   "source": [
    "accuracy = history.history['accuracy']\n",
    "val_accuracy = history.history['val_accuracy']\n",
    "loss = history.history['loss']\n",
    "val_loss = history.history['val_loss']"
   ]
  },
  {
   "cell_type": "code",
   "execution_count": 62,
   "metadata": {
    "colab": {
     "base_uri": "https://localhost:8080/",
     "height": 603
    },
    "id": "jIGgYRLTmf8C",
    "outputId": "8d754f02-e97a-4e76-ace8-abc258230b6c"
   },
   "outputs": [
    {
     "data": {
      "image/png": "[encoded data removed]",
      "text/plain": [
       "<Figure size 432x288 with 1 Axes>"
      ]
     },
     "metadata": {
      "needs_background": "light"
     },
     "output_type": "display_data"
    },
    {
     "data": {
      "image/png": "[encoded data removed]",
      "text/plain": [
       "<Figure size 432x288 with 1 Axes>"
      ]
     },
     "metadata": {
      "needs_background": "light"
     },
     "output_type": "display_data"
    }
   ],
   "source": [
    "plt.plot(accuracy, label=\"accuracy train\")\n",
    "plt.plot(val_accuracy, label=\"val accuracy\")\n",
    "plt.title(\"GRU with embadding accuracy \\n epoch = 50 (with erly stop) || minibatch = 640\")\n",
    "plt.ylabel(\"prectenge\")\n",
    "plt.xlabel(\"epoch\")\n",
    "plt.legend()\n",
    "plt.show()\n",
    "\n",
    "\n",
    "\n",
    "plt.plot(loss, label = \"loss train\")\n",
    "plt.plot(val_loss, label = \"val loss\")\n",
    "plt.title(\"GRU with embadding accuracy \\n epoch = 50 (with erly stop) || minibatch = 640\")\n",
    "plt.ylabel(\"cost\")\n",
    "plt.xlabel(\"epoch\")\n",
    "plt.legend()\n",
    "plt.show()"
   ]
  },
  {
   "cell_type": "code",
   "execution_count": null,
   "metadata": {
    "id": "3tsNeu0ymlYH"
   },
   "outputs": [],
   "source": []
  }
 ],
 "metadata": {
  "accelerator": "GPU",
  "colab": {
   "collapsed_sections": [
    "lRRh1tlg4kqf",
    "jNPiGPTvlsTM"
   ],
   "machine_shape": "hm",
   "name": "ML_proj_EDA",
   "provenance": []
  },
  "gpuClass": "standard",
  "kernelspec": {
   "display_name": "Python 3",
   "language": "python",
   "name": "python3"
  },
  "language_info": {
   "codemirror_mode": {
    "name": "ipython",
    "version": 3
   },
   "file_extension": ".py",
   "mimetype": "text/x-python",
   "name": "python",
   "nbconvert_exporter": "python",
   "pygments_lexer": "ipython3",
   "version": "3.8.2"
  }
 },
 "nbformat": 4,
 "nbformat_minor": 1
}
